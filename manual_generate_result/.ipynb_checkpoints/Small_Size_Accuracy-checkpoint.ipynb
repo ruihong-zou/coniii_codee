{
 "cells": [
  {
   "cell_type": "code",
   "execution_count": 5,
   "id": "584ad08d",
   "metadata": {},
   "outputs": [],
   "source": [
    "import warnings\n",
    "# 仅在这个context里忽略警告\n",
    "with warnings.catch_warnings():\n",
    "    warnings.filterwarnings(\"ignore\")\n",
    "    from coniii import *\n",
    "import numpy as np\n",
    "from tqdm.auto import tqdm\n",
    "from scipy.spatial.distance import cdist\n",
    "from scipy.stats import multivariate_normal\n",
    "import matplotlib.pyplot as plt\n",
    "import random\n",
    "import generate_assembly #In the same dir\n",
    "import generate_SpikeCount #In the same dir\n",
    "from scipy.stats import poisson\n",
    "import time\n",
    "\n",
    "warnings.filterwarnings(\"ignore\")\n",
    "\n",
    "\n",
    "\n",
    "# Define Parameters\n",
    "T = 3600 # time of simul“ation\n",
    "N = 25  # number of neurons\n",
    "dT = 0.5 # time step\n",
    "params_assembly_density = 3 # size of neurons in each assembly\n",
    "params_assembly_num =2 # number of assemblies\n",
    "params_point_into_neuron_distance = 0.5 \n",
    "fire_rate_background = np.random.uniform(1, 6, N)\n",
    "# Length of an active event as a number of timesteps\n",
    "eventDur = np.random.randint(1, 10)\n",
    "# Probability with which a unit is particularly active in a single timestep\n",
    "eventProb = np.random.uniform(0.01, 0.05)\n",
    "# Firing rate multiplier at active events\n",
    "eventMult = np.random.uniform(6, 10)  # random number between 1 and 5\n",
    "showPlot = False"
   ]
  },
  {
   "cell_type": "code",
   "execution_count": 6,
   "id": "bd0b1dbd",
   "metadata": {},
   "outputs": [
    {
     "name": "stdout",
     "output_type": "stream",
     "text": [
      "[[10, 1, 22], [1, 6]]\n"
     ]
    }
   ],
   "source": [
    "# Here's some preparatory code, we don't count its execution time\n",
    "assemblies = generate_assembly.generate_assembly_solve(N, params_assembly_num, params_assembly_density)\n",
    "# Output 0, 1 type spikes\n",
    "spikeCount = generate_SpikeCount.generateSpikeCountSolve(N, T, dT, assemblies, (1, 6), eventDur, eventProb, eventMult, showPlot)\n",
    "# Transform to -1, 1 distribution\n",
    "spikeCount[spikeCount == 0] = -1\n",
    "\n",
    "print(assemblies)"
   ]
  },
  {
   "cell_type": "code",
   "execution_count": 7,
   "id": "c831912f",
   "metadata": {
    "scrolled": true
   },
   "outputs": [],
   "source": [
    "# Define a function to encapsulate the code you want to time\n",
    "def code_to_time(spikeCount,threshold):\n",
    "    solver = ClusterExpansion(spikeCount)\n",
    "    multipliers, ent, clusters, deltaSdict, deltaJdict= solver.solve(threshold, full_output=True)\n"
   ]
  },
  {
   "cell_type": "code",
   "execution_count": 9,
   "id": "5c19042c",
   "metadata": {},
   "outputs": [
    {
     "data": {
      "application/vnd.jupyter.widget-view+json": {
       "model_id": "6b00d94822dd4ff181b2a246551b5664",
       "version_major": 2,
       "version_minor": 0
      },
      "text/plain": [
       "  0%|          | 0/3 [00:00<?, ?it/s]"
      ]
     },
     "metadata": {},
     "output_type": "display_data"
    },
    {
     "data": {
      "application/vnd.jupyter.widget-view+json": {
       "model_id": "96d66e27a270435caf14856215d12395",
       "version_major": 2,
       "version_minor": 0
      },
      "text/plain": [
       "  0%|          | 0/3 [00:00<?, ?it/s]"
      ]
     },
     "metadata": {},
     "output_type": "display_data"
    },
    {
     "data": {
      "application/vnd.jupyter.widget-view+json": {
       "model_id": "e6aaaa53d7644fa4a238ba6e75f1709e",
       "version_major": 2,
       "version_minor": 0
      },
      "text/plain": [
       "  0%|          | 0/3 [00:00<?, ?it/s]"
      ]
     },
     "metadata": {},
     "output_type": "display_data"
    },
    {
     "data": {
      "application/vnd.jupyter.widget-view+json": {
       "model_id": "4a154b5ee7d84b3ca763dff13ea1da07",
       "version_major": 2,
       "version_minor": 0
      },
      "text/plain": [
       "  0%|          | 0/3 [00:00<?, ?it/s]"
      ]
     },
     "metadata": {},
     "output_type": "display_data"
    },
    {
     "data": {
      "application/vnd.jupyter.widget-view+json": {
       "model_id": "e9eb01de23c84293b46a55790c9adcb0",
       "version_major": 2,
       "version_minor": 0
      },
      "text/plain": [
       "  0%|          | 0/3 [00:00<?, ?it/s]"
      ]
     },
     "metadata": {},
     "output_type": "display_data"
    },
    {
     "data": {
      "application/vnd.jupyter.widget-view+json": {
       "model_id": "d43168d04597490cb4c7be6fd1fc5b76",
       "version_major": 2,
       "version_minor": 0
      },
      "text/plain": [
       "  0%|          | 0/3 [00:00<?, ?it/s]"
      ]
     },
     "metadata": {},
     "output_type": "display_data"
    },
    {
     "data": {
      "application/vnd.jupyter.widget-view+json": {
       "model_id": "8fc5315bcc6b4f60bfaf55a72dccc791",
       "version_major": 2,
       "version_minor": 0
      },
      "text/plain": [
       "  0%|          | 0/3 [00:00<?, ?it/s]"
      ]
     },
     "metadata": {},
     "output_type": "display_data"
    },
    {
     "data": {
      "application/vnd.jupyter.widget-view+json": {
       "model_id": "ed8c3f22b579478bbe1ae1b9d7a59445",
       "version_major": 2,
       "version_minor": 0
      },
      "text/plain": [
       "  0%|          | 0/3 [00:00<?, ?it/s]"
      ]
     },
     "metadata": {},
     "output_type": "display_data"
    },
    {
     "data": {
      "application/vnd.jupyter.widget-view+json": {
       "model_id": "50a05ca10b8b4c72bf4a1bc3c2ef769f",
       "version_major": 2,
       "version_minor": 0
      },
      "text/plain": [
       "  0%|          | 0/3 [00:00<?, ?it/s]"
      ]
     },
     "metadata": {},
     "output_type": "display_data"
    },
    {
     "data": {
      "application/vnd.jupyter.widget-view+json": {
       "model_id": "81a83201086a422da8570ccbc8981e0e",
       "version_major": 2,
       "version_minor": 0
      },
      "text/plain": [
       "  0%|          | 0/3 [00:00<?, ?it/s]"
      ]
     },
     "metadata": {},
     "output_type": "display_data"
    },
    {
     "name": "stdout",
     "output_type": "stream",
     "text": [
      "Total time after 10 iterations: 26.66758131980896 seconds\n"
     ]
    },
    {
     "data": {
      "application/vnd.jupyter.widget-view+json": {
       "model_id": "86dbc9cb3e5a430a980f555d4744ff29",
       "version_major": 2,
       "version_minor": 0
      },
      "text/plain": [
       "  0%|          | 0/3 [00:00<?, ?it/s]"
      ]
     },
     "metadata": {},
     "output_type": "display_data"
    },
    {
     "data": {
      "application/vnd.jupyter.widget-view+json": {
       "model_id": "e2eb3409e62b4c12ae6cfdb8f934e05f",
       "version_major": 2,
       "version_minor": 0
      },
      "text/plain": [
       "  0%|          | 0/3 [00:00<?, ?it/s]"
      ]
     },
     "metadata": {},
     "output_type": "display_data"
    },
    {
     "data": {
      "application/vnd.jupyter.widget-view+json": {
       "model_id": "87fe4d65f9fd4b8bb664c264e423fff8",
       "version_major": 2,
       "version_minor": 0
      },
      "text/plain": [
       "  0%|          | 0/3 [00:00<?, ?it/s]"
      ]
     },
     "metadata": {},
     "output_type": "display_data"
    },
    {
     "data": {
      "application/vnd.jupyter.widget-view+json": {
       "model_id": "8d37f4096ed64677aeebacfaaeb29de0",
       "version_major": 2,
       "version_minor": 0
      },
      "text/plain": [
       "  0%|          | 0/3 [00:00<?, ?it/s]"
      ]
     },
     "metadata": {},
     "output_type": "display_data"
    },
    {
     "data": {
      "application/vnd.jupyter.widget-view+json": {
       "model_id": "d3db377093bf42259b390edac73f90d7",
       "version_major": 2,
       "version_minor": 0
      },
      "text/plain": [
       "  0%|          | 0/3 [00:00<?, ?it/s]"
      ]
     },
     "metadata": {},
     "output_type": "display_data"
    },
    {
     "data": {
      "application/vnd.jupyter.widget-view+json": {
       "model_id": "c3caf7751adb4e1ebe09b534947ec4c8",
       "version_major": 2,
       "version_minor": 0
      },
      "text/plain": [
       "  0%|          | 0/3 [00:00<?, ?it/s]"
      ]
     },
     "metadata": {},
     "output_type": "display_data"
    },
    {
     "data": {
      "application/vnd.jupyter.widget-view+json": {
       "model_id": "9ab6d3ca25104c37a1ab9a5adae93f2f",
       "version_major": 2,
       "version_minor": 0
      },
      "text/plain": [
       "  0%|          | 0/3 [00:00<?, ?it/s]"
      ]
     },
     "metadata": {},
     "output_type": "display_data"
    },
    {
     "data": {
      "application/vnd.jupyter.widget-view+json": {
       "model_id": "d7df855a4618428e911b3d9add5117b0",
       "version_major": 2,
       "version_minor": 0
      },
      "text/plain": [
       "  0%|          | 0/3 [00:00<?, ?it/s]"
      ]
     },
     "metadata": {},
     "output_type": "display_data"
    },
    {
     "data": {
      "application/vnd.jupyter.widget-view+json": {
       "model_id": "129e23b5715b403886b8bc343444438e",
       "version_major": 2,
       "version_minor": 0
      },
      "text/plain": [
       "  0%|          | 0/3 [00:00<?, ?it/s]"
      ]
     },
     "metadata": {},
     "output_type": "display_data"
    },
    {
     "data": {
      "application/vnd.jupyter.widget-view+json": {
       "model_id": "a7e40c852deb43a8bb494d24dc74d482",
       "version_major": 2,
       "version_minor": 0
      },
      "text/plain": [
       "  0%|          | 0/3 [00:00<?, ?it/s]"
      ]
     },
     "metadata": {},
     "output_type": "display_data"
    },
    {
     "name": "stdout",
     "output_type": "stream",
     "text": [
      "Total time after 20 iterations: 52.836241006851196 seconds\n"
     ]
    },
    {
     "data": {
      "application/vnd.jupyter.widget-view+json": {
       "model_id": "e93015c735974910b766ef44ed07b784",
       "version_major": 2,
       "version_minor": 0
      },
      "text/plain": [
       "  0%|          | 0/3 [00:00<?, ?it/s]"
      ]
     },
     "metadata": {},
     "output_type": "display_data"
    },
    {
     "data": {
      "application/vnd.jupyter.widget-view+json": {
       "model_id": "6305e1855b3d43b69bdb604db2548357",
       "version_major": 2,
       "version_minor": 0
      },
      "text/plain": [
       "  0%|          | 0/3 [00:00<?, ?it/s]"
      ]
     },
     "metadata": {},
     "output_type": "display_data"
    },
    {
     "data": {
      "application/vnd.jupyter.widget-view+json": {
       "model_id": "83f526ce854e4668989c3efefd06e3d2",
       "version_major": 2,
       "version_minor": 0
      },
      "text/plain": [
       "  0%|          | 0/3 [00:00<?, ?it/s]"
      ]
     },
     "metadata": {},
     "output_type": "display_data"
    },
    {
     "data": {
      "application/vnd.jupyter.widget-view+json": {
       "model_id": "b43084ee6bc8481abefd4ae975efc1b1",
       "version_major": 2,
       "version_minor": 0
      },
      "text/plain": [
       "  0%|          | 0/3 [00:00<?, ?it/s]"
      ]
     },
     "metadata": {},
     "output_type": "display_data"
    },
    {
     "data": {
      "application/vnd.jupyter.widget-view+json": {
       "model_id": "304c406bcbd34637affe484b7710cff1",
       "version_major": 2,
       "version_minor": 0
      },
      "text/plain": [
       "  0%|          | 0/3 [00:00<?, ?it/s]"
      ]
     },
     "metadata": {},
     "output_type": "display_data"
    },
    {
     "data": {
      "application/vnd.jupyter.widget-view+json": {
       "model_id": "1554ffbe3e1e4094853c1129e42ad119",
       "version_major": 2,
       "version_minor": 0
      },
      "text/plain": [
       "  0%|          | 0/3 [00:00<?, ?it/s]"
      ]
     },
     "metadata": {},
     "output_type": "display_data"
    },
    {
     "data": {
      "application/vnd.jupyter.widget-view+json": {
       "model_id": "6fd9d52c7b19404b80ffe6df6476d6c4",
       "version_major": 2,
       "version_minor": 0
      },
      "text/plain": [
       "  0%|          | 0/3 [00:00<?, ?it/s]"
      ]
     },
     "metadata": {},
     "output_type": "display_data"
    },
    {
     "data": {
      "application/vnd.jupyter.widget-view+json": {
       "model_id": "3943d7c15dd348f4a306bbc48b123bca",
       "version_major": 2,
       "version_minor": 0
      },
      "text/plain": [
       "  0%|          | 0/3 [00:00<?, ?it/s]"
      ]
     },
     "metadata": {},
     "output_type": "display_data"
    },
    {
     "data": {
      "application/vnd.jupyter.widget-view+json": {
       "model_id": "c472038ef8cc4da0aeb408daf85b32e0",
       "version_major": 2,
       "version_minor": 0
      },
      "text/plain": [
       "  0%|          | 0/3 [00:00<?, ?it/s]"
      ]
     },
     "metadata": {},
     "output_type": "display_data"
    },
    {
     "data": {
      "application/vnd.jupyter.widget-view+json": {
       "model_id": "031070bfd69c43e8a3b32359976c467b",
       "version_major": 2,
       "version_minor": 0
      },
      "text/plain": [
       "  0%|          | 0/3 [00:00<?, ?it/s]"
      ]
     },
     "metadata": {},
     "output_type": "display_data"
    },
    {
     "name": "stdout",
     "output_type": "stream",
     "text": [
      "Total time after 30 iterations: 79.90333127975464 seconds\n"
     ]
    }
   ],
   "source": [
    "# Initialize the total time to zero\n",
    "total_time = 0\n",
    "threshold = 1e-1\n",
    "\n",
    "# Run the code multiple times\n",
    "for i in range(1, 31):  # Runs the loop 30 times\n",
    "    start_time = time.time()\n",
    "    \n",
    "    # Run the code to time\n",
    "    code_to_time(spikeCount,threshold)\n",
    "\n",
    "    # Calculate and totalise execution time\n",
    "    elapsed_time = time.time() - start_time\n",
    "    total_time += elapsed_time\n",
    "\n",
    "    # Print the total time after 10, 20, and 30 iterations\n",
    "    if i in tqdm({10, 20, 30}):\n",
    "        print(f\"Average Time after {i} iterations: {float(total_time/i)} seconds\")"
   ]
  },
  {
   "cell_type": "code",
   "execution_count": 5,
   "id": "b36b4108",
   "metadata": {},
   "outputs": [],
   "source": []
  },
  {
   "cell_type": "code",
   "execution_count": 5,
   "id": "bca45dc2",
   "metadata": {},
   "outputs": [],
   "source": []
  },
  {
   "cell_type": "code",
   "execution_count": 5,
   "id": "6d3704c9",
   "metadata": {},
   "outputs": [],
   "source": []
  },
  {
   "cell_type": "code",
   "execution_count": 5,
   "id": "2b83354e",
   "metadata": {},
   "outputs": [],
   "source": []
  },
  {
   "cell_type": "code",
   "execution_count": 5,
   "id": "a65e5a0e",
   "metadata": {},
   "outputs": [],
   "source": []
  },
  {
   "cell_type": "code",
   "execution_count": 23,
   "id": "009d23aa",
   "metadata": {},
   "outputs": [
    {
     "name": "stdout",
     "output_type": "stream",
     "text": [
      "adaptiveClusterExpansion: Clusters of size 2\n",
      "adaptiveClusterExpansion: Clusters of size 3\n",
      "adaptiveClusterExpansion: Clusters of size 4\n",
      "adaptiveClusterExpansion: Clusters of size 5\n",
      "adaptiveClusterExpansion: Clusters of size 2\n",
      "adaptiveClusterExpansion: Clusters of size 3\n",
      "adaptiveClusterExpansion: Clusters of size 4\n",
      "adaptiveClusterExpansion: Clusters of size 5\n",
      "adaptiveClusterExpansion: Clusters of size 2\n",
      "adaptiveClusterExpansion: Clusters of size 3\n",
      "adaptiveClusterExpansion: Clusters of size 4\n",
      "adaptiveClusterExpansion: Clusters of size 5\n",
      "adaptiveClusterExpansion: Clusters of size 2\n",
      "adaptiveClusterExpansion: Clusters of size 3\n",
      "adaptiveClusterExpansion: Clusters of size 4\n",
      "adaptiveClusterExpansion: Clusters of size 5\n",
      "adaptiveClusterExpansion: Clusters of size 2\n",
      "adaptiveClusterExpansion: Clusters of size 3\n",
      "adaptiveClusterExpansion: Clusters of size 4\n",
      "adaptiveClusterExpansion: Clusters of size 5\n",
      "adaptiveClusterExpansion: Clusters of size 2\n",
      "adaptiveClusterExpansion: Clusters of size 3\n",
      "adaptiveClusterExpansion: Clusters of size 4\n",
      "adaptiveClusterExpansion: Clusters of size 5\n",
      "adaptiveClusterExpansion: Clusters of size 2\n",
      "adaptiveClusterExpansion: Clusters of size 3\n",
      "adaptiveClusterExpansion: Clusters of size 4\n",
      "adaptiveClusterExpansion: Clusters of size 5\n",
      "adaptiveClusterExpansion: Clusters of size 2\n",
      "adaptiveClusterExpansion: Clusters of size 3\n",
      "adaptiveClusterExpansion: Clusters of size 4\n",
      "adaptiveClusterExpansion: Clusters of size 5\n",
      "adaptiveClusterExpansion: Clusters of size 2\n",
      "adaptiveClusterExpansion: Clusters of size 3\n",
      "adaptiveClusterExpansion: Clusters of size 4\n",
      "adaptiveClusterExpansion: Clusters of size 5\n",
      "adaptiveClusterExpansion: Clusters of size 2\n",
      "adaptiveClusterExpansion: Clusters of size 3\n",
      "adaptiveClusterExpansion: Clusters of size 4\n",
      "adaptiveClusterExpansion: Clusters of size 5\n",
      "Average execution time:  2.8528429746627806\n"
     ]
    }
   ],
   "source": [
    "import time\n",
    "\n",
    "# Initialize time and number of runnnings\n",
    "total_time = 0\n",
    "num_runs = 10\n",
    "\n",
    "for _ in range(num_runs):\n",
    "\n",
    "    # Start Timing\n",
    "    start_time = time.time()\n",
    "\n",
    "    # Here's the code to calculate the execution time\n",
    "    solver = ClusterExpansion(spikeCount)\n",
    "    multipliers, ent, clusters, deltaSdict, deltaJdict= solver.solve(threshold=1e-3, full_output=True)\n",
    "    \n",
    "    # Calculate and totalise execution time\n",
    "    total_time += time.time() - start_time\n",
    "    \n",
    "print(\"Average execution time: \", total_time / num_runs)"
   ]
  },
  {
   "cell_type": "code",
   "execution_count": null,
   "id": "1b67a36f",
   "metadata": {},
   "outputs": [],
   "source": [
    "import time\n",
    "\n",
    "# Initialize time and number of runnnings\n",
    "total_time = 0\n",
    "num_runs = 10\n",
    "\n",
    "for _ in range(num_runs):\n",
    "    # Here's some preparatory code, we don't count its execution time\n",
    "    assemblies = generate_assembly.generate_assembly_solve(N, params_assembly_num, params_assembly_density)\n",
    "    # Output 0, 1 type spikes\n",
    "    spikeCount = generate_SpikeCount.generateSpikeCountSolve(N, T, dT, assemblies, (1, 6), eventDur, eventProb, eventMult, showPlot)\n",
    "    # Transform to -1, 1 distribution\n",
    "    spikeCount[spikeCount == 0] = -1\n",
    "    \n",
    "    # Start Timing\n",
    "    start_time = time.time()\n",
    "\n",
    "    # Here's the code to calculate the execution time\n",
    "    solver = ClusterExpansion(spikeCount)\n",
    "    multipliers, ent, clusters, deltaSdict, deltaJdict= solver.solve(threshold=1e-2, full_output=True)\n",
    "    \n",
    "    # Calculate and totalise execution time\n",
    "    total_time += time.time() - start_time\n",
    "    \n",
    "print(\"Average execution time: \", total_time / num_runs)"
   ]
  },
  {
   "cell_type": "code",
   "execution_count": null,
   "id": "8127cefe",
   "metadata": {},
   "outputs": [],
   "source": [
    "##### import time\n",
    "\n",
    "# Initialize time and number of runnnings\n",
    "total_time = 0\n",
    "num_runs = 10\n",
    "\n",
    "for _ in range(num_runs):\n",
    "    # Here's some preparatory code, we don't count its execution time\n",
    "    assemblies = generate_assembly.generate_assembly_solve(N, params_assembly_num, params_assembly_density)\n",
    "    # Output 0, 1 type spikes\n",
    "    spikeCount = generate_SpikeCount.generateSpikeCountSolve(N, T, dT, assemblies, (1, 6), eventDur, eventProb, eventMult, showPlot)\n",
    "    # Transform to -1, 1 distribution\n",
    "    spikeCount[spikeCount == 0] = -1\n",
    "    \n",
    "    # Start Timing\n",
    "    start_time = time.time()\n",
    "\n",
    "    # Here's the code to calculate the execution time\n",
    "    solver = ClusterExpansion(spikeCount)\n",
    "    multipliers, ent, clusters, deltaSdict, deltaJdict= solver.solve(threshold=1e-1, full_output=True)\n",
    "    \n",
    "    # Calculate and totalise execution time\n",
    "    total_time += time.time() - start_time\n",
    "    \n",
    "print(\"Average execution time: \", total_time / num_runs)"
   ]
  },
  {
   "cell_type": "code",
   "execution_count": null,
   "id": "b5f7ed02",
   "metadata": {},
   "outputs": [],
   "source": [
    "import time\n",
    "\n",
    "# Initialize time and number of runnnings\n",
    "total_time = 0\n",
    "num_runs = 50\n",
    "\n",
    "for _ in range(num_runs):\n",
    "    # Here's some preparatory code, we don't count its execution time\n",
    "    assemblies = generate_assembly.generate_assembly_solve(N, params_assembly_num, params_assembly_density)\n",
    "    # Output 0, 1 type spikes\n",
    "    spikeCount = generate_SpikeCount.generateSpikeCountSolve(N, T, dT, assemblies, (1, 6), eventDur, eventProb, eventMult, showPlot)\n",
    "    # Transform to -1, 1 distribution\n",
    "    spikeCount[spikeCount == 0] = -1\n",
    "    \n",
    "    # Start Timing\n",
    "    start_time = time.time()\n",
    "\n",
    "    # Here's the code to calculate the execution time\n",
    "    solver = ClusterExpansion(spikeCount)\n",
    "    multipliers, ent, clusters, deltaSdict, deltaJdict= solver.solve(threshold=1e-3, full_output=True)\n",
    "    \n",
    "    # Calculate and totalise execution time\n",
    "    total_time += time.time() - start_time\n",
    "    \n",
    "print(\"Average execution time: \", total_time / num_runs)"
   ]
  },
  {
   "cell_type": "code",
   "execution_count": null,
   "id": "d2912b7a",
   "metadata": {},
   "outputs": [],
   "source": [
    "import time\n",
    "\n",
    "# Initialize time and number of runnnings\n",
    "total_time = 0\n",
    "num_runs = 50\n",
    "\n",
    "for _ in range(num_runs):\n",
    "    # Here's some preparatory code, we don't count its execution time\n",
    "    assemblies = generate_assembly.generate_assembly_solve(N, params_assembly_num, params_assembly_density)\n",
    "    # Output 0, 1 type spikes\n",
    "    spikeCount = generate_SpikeCount.generateSpikeCountSolve(N, T, dT, assemblies, (1, 6), eventDur, eventProb, eventMult, showPlot)\n",
    "    # Transform to -1, 1 distribution\n",
    "    spikeCount[spikeCount == 0] = -1\n",
    "    \n",
    "    # Start Timing\n",
    "    start_time = time.time()\n",
    "\n",
    "    # Here's the code to calculate the execution time\n",
    "    solver = ClusterExpansion(spikeCount)\n",
    "    multipliers, ent, clusters, deltaSdict, deltaJdict= solver.solve(threshold=1e-2, full_output=True)\n",
    "    \n",
    "    # Calculate and totalise execution time\n",
    "    total_time += time.time() - start_time\n",
    "    \n",
    "print(\"Average execution time: \", total_time / num_runs)"
   ]
  },
  {
   "cell_type": "code",
   "execution_count": null,
   "id": "2e57d4b9",
   "metadata": {},
   "outputs": [],
   "source": [
    "import time\n",
    "\n",
    "# Initialize time and number of runnnings\n",
    "total_time = 0\n",
    "num_runs = 100\n",
    "\n",
    "for _ in range(num_runs):\n",
    "    # Here's some preparatory code, we don't count its execution time\n",
    "    assemblies = generate_assembly.generate_assembly_solve(N, params_assembly_num, params_assembly_density)\n",
    "    # Output 0, 1 type spikes\n",
    "    spikeCount = generate_SpikeCount.generateSpikeCountSolve(N, T, dT, assemblies, (1, 6), eventDur, eventProb, eventMult, showPlot)\n",
    "    # Transform to -1, 1 distribution\n",
    "    spikeCount[spikeCount == 0] = -1\n",
    "    \n",
    "    # Start Timing\n",
    "    start_time = time.time()\n",
    "\n",
    "    # Here's the code to calculate the execution time\n",
    "    solver = ClusterExpansion(spikeCount)\n",
    "    multipliers, ent, clusters, deltaSdict, deltaJdict= solver.solve(threshold=1e-3, full_output=True)\n",
    "    \n",
    "    # Calculate and totalise execution time\n",
    "    total_time += time.time() - start_time\n",
    "    \n",
    "print(\"Average execution time: \", total_time / num_runs)"
   ]
  },
  {
   "cell_type": "code",
   "execution_count": null,
   "id": "3800e789",
   "metadata": {},
   "outputs": [],
   "source": [
    "import time\n",
    "\n",
    "# Initialize time and number of runnnings\n",
    "total_time = 0\n",
    "num_runs = 100\n",
    "\n",
    "for _ in range(num_runs):\n",
    "    # Here's some preparatory code, we don't count its execution time\n",
    "    assemblies = generate_assembly.generate_assembly_solve(N, params_assembly_num, params_assembly_density)\n",
    "    # Output 0, 1 type spikes\n",
    "    spikeCount = generate_SpikeCount.generateSpikeCountSolve(N, T, dT, assemblies, (1, 6), eventDur, eventProb, eventMult, showPlot)\n",
    "    # Transform to -1, 1 distribution\n",
    "    spikeCount[spikeCount == 0] = -1\n",
    "    \n",
    "    # Start Timing\n",
    "    start_time = time.time()\n",
    "\n",
    "    # Here's the code to calculate the execution time\n",
    "    solver = ClusterExpansion(spikeCount)\n",
    "    multipliers, ent, clusters, deltaSdict, deltaJdict= solver.solve(threshold=1e-2, full_output=True)\n",
    "    \n",
    "    # Calculate and totalise execution time\n",
    "    total_time += time.time() - start_time\n",
    "    \n",
    "print(\"Average execution time: \", total_time / num_runs)"
   ]
  },
  {
   "cell_type": "code",
   "execution_count": null,
   "id": "250e35ab",
   "metadata": {},
   "outputs": [],
   "source": []
  },
  {
   "cell_type": "code",
   "execution_count": null,
   "id": "29e8b8fe",
   "metadata": {},
   "outputs": [],
   "source": []
  }
 ],
 "metadata": {
  "kernelspec": {
   "display_name": "coniii",
   "language": "python",
   "name": "coniii"
  },
  "language_info": {
   "codemirror_mode": {
    "name": "ipython",
    "version": 3
   },
   "file_extension": ".py",
   "mimetype": "text/x-python",
   "name": "python",
   "nbconvert_exporter": "python",
   "pygments_lexer": "ipython3",
   "version": "3.10.12"
  }
 },
 "nbformat": 4,
 "nbformat_minor": 5
}
