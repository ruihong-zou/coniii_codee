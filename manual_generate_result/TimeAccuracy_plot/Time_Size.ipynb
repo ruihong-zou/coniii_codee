{
 "cells": [
  {
   "cell_type": "markdown",
   "id": "26c9d5e5",
   "metadata": {},
   "source": [
    "2 assemblies. Neuron Size = 25, 50, 75"
   ]
  },
  {
   "cell_type": "markdown",
   "id": "83654c1d",
   "metadata": {},
   "source": [
    "# Step 1, Set threshold = 0.1\n"
   ]
  },
  {
   "cell_type": "markdown",
   "id": "5e5637dc",
   "metadata": {},
   "source": [
    "## Set Assembly"
   ]
  },
  {
   "cell_type": "code",
   "execution_count": 1,
   "id": "670cdb54",
   "metadata": {},
   "outputs": [],
   "source": [
    "import warnings\n",
    "# 仅在这个context里忽略警告\n",
    "with warnings.catch_warnings():\n",
    "    warnings.filterwarnings(\"ignore\")\n",
    "    from coniii import *\n",
    "import numpy as np\n",
    "from tqdm.auto import tqdm\n",
    "from scipy.spatial.distance import cdist\n",
    "from scipy.stats import multivariate_normal\n",
    "import matplotlib.pyplot as plt\n",
    "import random\n",
    "import generate_assembly #In the same dir\n",
    "import generate_SpikeCount #In the same dir\n",
    "from scipy.stats import poisson\n",
    "import time\n",
    "import math\n",
    "\n",
    "warnings.filterwarnings(\"ignore\")\n",
    "\n",
    "\n",
    "# Define Parameters\n",
    "T = 3600 # time of simul“ation\n",
    "dT = 0.5 # time step\n",
    "params_assembly_density = 3 # size of neurons in each assembly\n",
    "params_assembly_num =2 # number of assemblies\n",
    "params_point_into_neuron_distance = 0.5 \n",
    "\n",
    "# Length of an active event as a number of timesteps\n",
    "eventDur = np.random.randint(1, 10)\n",
    "# Probability with which a unit is particularly active in a single timestep\n",
    "eventProb = np.random.uniform(0.01, 0.05)\n",
    "# Firing rate multiplier at active events\n",
    "eventMult = np.random.uniform(6, 10)  # random number between 1 and 5\n",
    "showPlot = False"
   ]
  },
  {
   "cell_type": "code",
   "execution_count": 26,
   "id": "6ef33e47",
   "metadata": {},
   "outputs": [
    {
     "name": "stdout",
     "output_type": "stream",
     "text": [
      "[[[20, 15, 21], [20, 16]], [[18, 30, 14], [30, 31]], [[6, 13], [12, 26, 13]], [[21, 29, 39], [45, 39]], [[36, 37, 20], [36, 45]], [[53, 34, 86], [86, 76]]]\n"
     ]
    }
   ],
   "source": [
    "N = [25,36,49,64,81,100]\n",
    "\n",
    "assemblies_list = []\n",
    "spikeCount_list = []\n",
    "\n",
    "for n in N:\n",
    "    fire_rate_background = np.random.uniform(1, 6, n)\n",
    "    # Here's some preparatory code, we don't count its execution time\n",
    "    assemblies = generate_assembly.generate_assembly_solve(n, params_assembly_num, params_assembly_density)\n",
    "    # Output 0, 1 type spikes\n",
    "    spikeCount = generate_SpikeCount.generateSpikeCountSolve(n, T, dT, assemblies, (1, 6), eventDur, eventProb, eventMult, showPlot)\n",
    "    # Transform to -1, 1 distribution\n",
    "    spikeCount[spikeCount == 0] = -1\n",
    "    assemblies_list.append(assemblies)\n",
    "    spikeCount_list.append(spikeCount)\n",
    "\n",
    "print(assemblies_list)"
   ]
  },
  {
   "cell_type": "code",
   "execution_count": null,
   "id": "58745696",
   "metadata": {},
   "outputs": [],
   "source": []
  },
  {
   "cell_type": "markdown",
   "id": "05601853",
   "metadata": {},
   "source": [
    "## Run the code 10 times per Neuron Size"
   ]
  },
  {
   "cell_type": "code",
   "execution_count": 5,
   "id": "ef247106",
   "metadata": {},
   "outputs": [],
   "source": [
    "# Define a function to encapsulate the code you want to time\n",
    "def code_to_time(spikeCount,threshold):\n",
    "    solver = ClusterExpansion(spikeCount)\n",
    "    multipliers, ent, clusters, deltaSdict, deltaJdict= solver.solve(threshold, full_output=True)"
   ]
  },
  {
   "cell_type": "code",
   "execution_count": null,
   "id": "6a5469d1",
   "metadata": {},
   "outputs": [],
   "source": []
  },
  {
   "cell_type": "code",
   "execution_count": 27,
   "id": "785297b6",
   "metadata": {},
   "outputs": [],
   "source": [
    "time_taken = []\n",
    "mean_times = []\n",
    "\n",
    "threshold = [0.1, 0.01, 0.001]\n",
    "\n",
    "# Create a dictionary to store the results for each threshold\n",
    "results = {thresh: {'times': [], 'means': []} for thresh in threshold}\n",
    "\n",
    "for thresh in threshold:\n",
    "    for i in range(len(spikeCount_list)):\n",
    "        iter_times = []\n",
    "        for _ in range(5):\n",
    "            # Record start time\n",
    "            start_time = time.time()\n",
    "\n",
    "            # Execute the code function\n",
    "            result = code_to_time(spikeCount_list[i], thresh)\n",
    "\n",
    "            # Record end time\n",
    "            end_time = time.time()\n",
    "\n",
    "            # Calculate execution time and add to list\n",
    "            iter_times.append(end_time - start_time)\n",
    "\n",
    "        # Dictionary of results for calculating average time and adding to thresholds\n",
    "        results[thresh]['means'].append(np.mean(iter_times))\n",
    "        # Dictionary of results of adding ALL runtimes\n",
    "        results[thresh]['times'].extend(iter_times)\n",
    "\n"
   ]
  },
  {
   "cell_type": "code",
   "execution_count": 28,
   "id": "9112ef85",
   "metadata": {},
   "outputs": [
    {
     "data": {
      "text/plain": [
       "{0.1: {'times': [0.8905460834503174,\n",
       "   0.8896236419677734,\n",
       "   1.1452300548553467,\n",
       "   0.8693230152130127,\n",
       "   0.8835952281951904,\n",
       "   1.3275668621063232,\n",
       "   1.3379812240600586,\n",
       "   1.5441088676452637,\n",
       "   1.3187382221221924,\n",
       "   1.3399322032928467,\n",
       "   2.080690860748291,\n",
       "   2.321021795272827,\n",
       "   2.0706028938293457,\n",
       "   2.0558230876922607,\n",
       "   2.0731329917907715,\n",
       "   3.1727700233459473,\n",
       "   3.415363073348999,\n",
       "   3.222670793533325,\n",
       "   3.1809611320495605,\n",
       "   3.1764779090881348,\n",
       "   4.999892950057983,\n",
       "   5.17231011390686,\n",
       "   4.970321178436279,\n",
       "   4.9142491817474365,\n",
       "   4.957507133483887,\n",
       "   7.533246278762817,\n",
       "   7.640777349472046,\n",
       "   7.4718098640441895,\n",
       "   7.564259767532349,\n",
       "   7.482256889343262],\n",
       "  'means': [0.9356636047363281,\n",
       "   1.3736654758453368,\n",
       "   2.120254325866699,\n",
       "   3.233648586273193,\n",
       "   5.002856111526489,\n",
       "   7.538470029830933]},\n",
       " 0.01: {'times': [1.0162580013275146,\n",
       "   1.026066780090332,\n",
       "   1.3264288902282715,\n",
       "   1.024596929550171,\n",
       "   1.026357889175415,\n",
       "   1.4380300045013428,\n",
       "   1.445255994796753,\n",
       "   1.7584891319274902,\n",
       "   1.4126977920532227,\n",
       "   1.4025678634643555,\n",
       "   2.1243927478790283,\n",
       "   2.1445648670196533,\n",
       "   2.411580801010132,\n",
       "   2.065666913986206,\n",
       "   2.1131808757781982,\n",
       "   3.3533592224121094,\n",
       "   3.308242082595825,\n",
       "   3.2976651191711426,\n",
       "   3.62975811958313,\n",
       "   3.444438934326172,\n",
       "   4.974252223968506,\n",
       "   4.940338850021362,\n",
       "   4.976995229721069,\n",
       "   4.91565203666687,\n",
       "   5.243441820144653,\n",
       "   7.36014199256897,\n",
       "   7.371793270111084,\n",
       "   7.300843000411987,\n",
       "   7.176586866378784,\n",
       "   7.504488945007324],\n",
       "  'means': [1.0839416980743408,\n",
       "   1.4914081573486329,\n",
       "   2.1718772411346436,\n",
       "   3.406692695617676,\n",
       "   5.0101360321044925,\n",
       "   7.34277081489563]},\n",
       " 0.001: {'times': [1.0181879997253418,\n",
       "   1.0007750988006592,\n",
       "   0.9837050437927246,\n",
       "   1.0332601070404053,\n",
       "   1.027587890625,\n",
       "   1.775773048400879,\n",
       "   1.4006738662719727,\n",
       "   1.4130041599273682,\n",
       "   1.4653160572052002,\n",
       "   1.4391717910766602,\n",
       "   2.131946086883545,\n",
       "   2.45019793510437,\n",
       "   2.1915640830993652,\n",
       "   2.0899109840393066,\n",
       "   2.107802152633667,\n",
       "   3.453843832015991,\n",
       "   3.4760241508483887,\n",
       "   3.495015859603882,\n",
       "   3.8233320713043213,\n",
       "   3.473785877227783,\n",
       "   5.092227220535278,\n",
       "   5.162260293960571,\n",
       "   5.1220152378082275,\n",
       "   5.094478130340576,\n",
       "   5.398916959762573,\n",
       "   7.5506322383880615,\n",
       "   7.552191972732544,\n",
       "   7.501044988632202,\n",
       "   7.414003372192383,\n",
       "   7.550091028213501],\n",
       "  'means': [1.0127032279968262,\n",
       "   1.498787784576416,\n",
       "   2.1942842483520506,\n",
       "   3.544400358200073,\n",
       "   5.173979568481445,\n",
       "   7.513592720031738]}}"
      ]
     },
     "execution_count": 28,
     "metadata": {},
     "output_type": "execute_result"
    }
   ],
   "source": [
    "results"
   ]
  },
  {
   "cell_type": "code",
   "execution_count": 30,
   "id": "a0e6e070",
   "metadata": {},
   "outputs": [
    {
     "data": {
      "image/png": "[encoded data removed]",
      "text/plain": [
       "<Figure size 1000x500 with 1 Axes>"
      ]
     },
     "metadata": {},
     "output_type": "display_data"
    }
   ],
   "source": [
    "colors = ['green', 'orange', 'red']\n",
    "\n",
    "# Scatterplotting\n",
    "plt.figure(figsize=(10, 5))\n",
    "\n",
    "for i, thresh in enumerate(threshold):\n",
    "    for j in range(len(spikeCount_list)):\n",
    "        label = f'Threshold = {thresh}' if j == 0 else None\n",
    "        \n",
    "        plt.scatter((j+1) * np.ones(5), results[thresh]['times'][j*5:(j+1)*5], color=colors[i], alpha=0.6)\n",
    "        plt.scatter(j+1, results[thresh]['means'][j], color=colors[i], marker='o', s=150, label=label)\n",
    "\n",
    "plt.xlabel('Set Size')\n",
    "plt.ylabel('Time Taken (seconds)')\n",
    "plt.title('Execution time of different Neuron Size and Threshold')\n",
    "plt.xticks(range(1, len(spikeCount_list)+1), [f'{N[i]} Neurons' for i in range(len(spikeCount_list))])\n",
    "plt.legend()\n",
    "plt.show()"
   ]
  }
 ],
 "metadata": {
  "kernelspec": {
   "display_name": "Python 3 (ipykernel)",
   "language": "python",
   "name": "python3"
  },
  "language_info": {
   "codemirror_mode": {
    "name": "ipython",
    "version": 3
   },
   "file_extension": ".py",
   "mimetype": "text/x-python",
   "name": "python",
   "nbconvert_exporter": "python",
   "pygments_lexer": "ipython3",
   "version": "3.10.12"
  }
 },
 "nbformat": 4,
 "nbformat_minor": 5
}
