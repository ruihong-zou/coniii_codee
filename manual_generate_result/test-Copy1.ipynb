{
 "cells": [
  {
   "cell_type": "code",
   "execution_count": 1,
   "metadata": {},
   "outputs": [
    {
     "name": "stderr",
     "output_type": "stream",
     "text": [
      "C:\\Users\\Riickyyy\\anaconda3\\envs\\coniii\\lib\\site-packages\\coniii\\samplers.py:381: NumbaDeprecationWarning: \u001b[1mThe 'nopython' keyword argument was not supplied to the 'numba.jit' decorator. The implicit default value for this argument is currently False, but it will be changed to True in Numba 0.59.0. See https://numba.readthedocs.io/en/stable/reference/deprecation.html#deprecation-of-object-mode-fall-back-behaviour-when-using-jit for details.\u001b[0m\n",
      "  def iterate_neighbors(n,ix,expdJ,r):\n",
      "C:\\Users\\Riickyyy\\anaconda3\\envs\\coniii\\lib\\site-packages\\coniii\\samplers.py:2342: NumbaDeprecationWarning: \u001b[1mThe 'nopython' keyword argument was not supplied to the 'numba.jit' decorator. The implicit default value for this argument is currently False, but it will be changed to True in Numba 0.59.0. See https://numba.readthedocs.io/en/stable/reference/deprecation.html#deprecation-of-object-mode-fall-back-behaviour-when-using-jit for details.\u001b[0m\n",
      "  def cross(vec1, vec2):\n"
     ]
    },
    {
     "ename": "ModuleNotFoundError",
     "evalue": "No module named 'process_input'",
     "output_type": "error",
     "traceback": [
      "\u001b[1;31m---------------------------------------------------------------------------\u001b[0m",
      "\u001b[1;31mModuleNotFoundError\u001b[0m                       Traceback (most recent call last)",
      "Cell \u001b[1;32mIn[1], line 2\u001b[0m\n\u001b[0;32m      1\u001b[0m \u001b[38;5;28;01mfrom\u001b[39;00m \u001b[38;5;21;01mconiii\u001b[39;00m \u001b[38;5;28;01mimport\u001b[39;00m \u001b[38;5;241m*\u001b[39m\n\u001b[1;32m----> 2\u001b[0m \u001b[38;5;28;01mfrom\u001b[39;00m \u001b[38;5;21;01mprocess_input\u001b[39;00m \u001b[38;5;28;01mimport\u001b[39;00m fish_input_process\n",
      "\u001b[1;31mModuleNotFoundError\u001b[0m: No module named 'process_input'"
     ]
    }
   ],
   "source": [
    "from coniii import *\n",
    "from process_input import fish_input_process\n"
   ]
  },
  {
   "cell_type": "code",
   "execution_count": null,
   "metadata": {},
   "outputs": [],
   "source": [
    "TIME = 3600"
   ]
  },
  {
   "cell_type": "code",
   "execution_count": null,
   "metadata": {},
   "outputs": [],
   "source": [
    "file = 'samples.csv'\n",
    "import pandas as pd\n",
    "#read in data\n",
    "data = pd.read_csv(file, header=None)\n",
    "\n",
    "print(data.shape)\n",
    "\n",
    "\n",
    "samples = fish_input_process(file,time=TIME)\n",
    "\n",
    "print(samples.shape)\n",
    "FISH_N = samples.shape[0]# neuro\n",
    "FISH_N_PAIRS = int(FISH_N * (FISH_N - 1) / 2)"
   ]
  },
  {
   "cell_type": "code",
   "execution_count": null,
   "metadata": {},
   "outputs": [],
   "source": [
    "samples.shape[0]"
   ]
  },
  {
   "cell_type": "code",
   "execution_count": null,
   "metadata": {},
   "outputs": [],
   "source": [
    "import matplotlib.pyplot as plt\n",
    "plt.figure(figsize=(8, 6), dpi=80)\n",
    "plt.imshow(samples, aspect=\"auto\", cmap=\"gray_r\", interpolation=\"none\")"
   ]
  },
  {
   "cell_type": "code",
   "execution_count": null,
   "metadata": {},
   "outputs": [],
   "source": []
  },
  {
   "cell_type": "code",
   "execution_count": null,
   "metadata": {},
   "outputs": [],
   "source": [
    "calc_e, calc_observables, mchApproximation = define_ising_helper_functions()\n",
    "print(calc_e)\n",
    "print(calc_observables)\n",
    "print(mchApproximation)"
   ]
  },
  {
   "cell_type": "code",
   "execution_count": null,
   "metadata": {},
   "outputs": [],
   "source": []
  },
  {
   "cell_type": "code",
   "execution_count": null,
   "metadata": {},
   "outputs": [],
   "source": [
    "solver = ClusterExpansion(samples.T)\n",
    "\n",
    "multipliers, ent, clusters, deltaSdict, deltaJdict= solver.solve(threshold=0.1, full_output=True)"
   ]
  },
  {
   "cell_type": "code",
   "execution_count": null,
   "metadata": {},
   "outputs": [],
   "source": [
    "J = multipliers[FISH_N:]\n",
    "\n",
    "# 创建一个 N*N 的零矩阵\n",
    "matrix = np.zeros((FISH_N, FISH_N))\n",
    "\n",
    "# # 使用数组的前N个元素填充对角线\n",
    "# matrix[np.diag_indices(FISH_N)] = multipliers[:FISH_N]\n",
    "\n",
    "# 使用数组的后N+2(N*N-1)个元素填充上半矩阵\n",
    "index = FISH_N\n",
    "for i in range(FISH_N):\n",
    "    for j in range(i+1, FISH_N):\n",
    "        matrix[i, j] = multipliers[index]\n",
    "        index += 1\n",
    "# 获取上半矩阵（包含对角线）\n",
    "upper_matrix = np.triu(matrix)\n",
    "\n",
    "# 转置上半矩阵并将其添加到下半部分\n",
    "lower_matrix = np.transpose(upper_matrix)\n",
    "lower_matrix = np.tril(lower_matrix, -1)\n",
    "\n",
    "# 将上半矩阵和转置的下半矩阵相加得到完整的矩阵\n",
    "final_matrix = upper_matrix + lower_matrix"
   ]
  },
  {
   "cell_type": "code",
   "execution_count": null,
   "metadata": {},
   "outputs": [],
   "source": [
    "#plot imshow and add lines\n",
    "plt.imshow(final_matrix, aspect=\"auto\", cmap=\"gray\")\n",
    "ax = plt.gca() # 获取当前的坐标轴\n",
    "ax.set_xticks([x-0.5 for x in range(1, final_matrix.shape[1])], minor=True) # 设置x轴的小刻度\n",
    "ax.set_yticks([y-0.5 for y in range(1, final_matrix.shape[0])], minor=True) # 设置y轴的小刻度\n",
    "plt.grid(which='minor', linestyle='-', linewidth=2)\n",
    "plt.colorbar()"
   ]
  }
 ],
 "metadata": {
  "kernelspec": {
   "display_name": "Python 3 (ipykernel)",
   "language": "python",
   "name": "python3"
  },
  "language_info": {
   "codemirror_mode": {
    "name": "ipython",
    "version": 3
   },
   "file_extension": ".py",
   "mimetype": "text/x-python",
   "name": "python",
   "nbconvert_exporter": "python",
   "pygments_lexer": "ipython3",
   "version": "3.10.12"
  }
 },
 "nbformat": 4,
 "nbformat_minor": 1
}
