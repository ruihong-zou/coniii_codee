{
 "cells": [
  {
   "cell_type": "code",
   "execution_count": 32,
   "metadata": {},
   "outputs": [],
   "source": [
    "from coniii import *\n",
    "from process_input import fish_input_process\n"
   ]
  },
  {
   "cell_type": "code",
   "execution_count": 33,
   "metadata": {},
   "outputs": [],
   "source": [
    "TIME = 3600"
   ]
  },
  {
   "cell_type": "code",
   "execution_count": 34,
   "metadata": {},
   "outputs": [
    {
     "name": "stdout",
     "output_type": "stream",
     "text": [
      "(8, 500)\n",
      "(8, 500)\n"
     ]
    }
   ],
   "source": [
    "file = 'samples.csv'\n",
    "import pandas as pd\n",
    "#read in data\n",
    "data = pd.read_csv(file, header=None)\n",
    "\n",
    "print(data.shape)\n",
    "\n",
    "\n",
    "samples = fish_input_process(file,time=TIME)\n",
    "\n",
    "print(samples.shape)\n",
    "FISH_N = samples.shape[0]# neuro\n",
    "FISH_N_PAIRS = int(FISH_N * (FISH_N - 1) / 2)"
   ]
  },
  {
   "cell_type": "code",
   "execution_count": 1,
   "metadata": {},
   "outputs": [
    {
     "ename": "NameError",
     "evalue": "name 'samples' is not defined",
     "output_type": "error",
     "traceback": [
      "\u001b[0;31m---------------------------------------------------------------------------\u001b[0m",
      "\u001b[0;31mNameError\u001b[0m                                 Traceback (most recent call last)",
      "Cell \u001b[0;32mIn[1], line 1\u001b[0m\n\u001b[0;32m----> 1\u001b[0m \u001b[43msamples\u001b[49m\u001b[38;5;241m.\u001b[39mshape[\u001b[38;5;241m0\u001b[39m]\n",
      "\u001b[0;31mNameError\u001b[0m: name 'samples' is not defined"
     ]
    }
   ],
   "source": [
    "samples.shape[0]"
   ]
  },
  {
   "cell_type": "code",
   "execution_count": 35,
   "metadata": {},
   "outputs": [
    {
     "data": {
      "text/plain": [
       "<matplotlib.image.AxesImage at 0x15558a7d0>"
      ]
     },
     "execution_count": 35,
     "metadata": {},
     "output_type": "execute_result"
    },
    {
     "data": {
      "image/png": "[encoded data removed]",
      "text/plain": [
       "<Figure size 640x480 with 1 Axes>"
      ]
     },
     "metadata": {},
     "output_type": "display_data"
    }
   ],
   "source": [
    "import matplotlib.pyplot as plt\n",
    "plt.figure(figsize=(8, 6), dpi=80)\n",
    "plt.imshow(samples, aspect=\"auto\", cmap=\"gray_r\", interpolation=\"none\")"
   ]
  },
  {
   "cell_type": "code",
   "execution_count": 35,
   "metadata": {},
   "outputs": [],
   "source": []
  },
  {
   "cell_type": "code",
   "execution_count": 36,
   "metadata": {},
   "outputs": [
    {
     "name": "stdout",
     "output_type": "stream",
     "text": [
      "CPUDispatcher(<function define_ising_helper_functions.<locals>.calc_e at 0x157b7e4d0>)\n",
      "CPUDispatcher(<function define_ising_helper_functions.<locals>.calc_observables at 0x157b7e3b0>)\n",
      "<function define_ising_helper_functions.<locals>.mch_approximation at 0x157b7e5f0>\n"
     ]
    }
   ],
   "source": [
    "calc_e, calc_observables, mchApproximation = define_ising_helper_functions()\n",
    "print(calc_e)\n",
    "print(calc_observables)\n",
    "print(mchApproximation)"
   ]
  },
  {
   "cell_type": "code",
   "execution_count": 36,
   "metadata": {},
   "outputs": [],
   "source": []
  },
  {
   "cell_type": "code",
   "execution_count": 37,
   "metadata": {},
   "outputs": [
    {
     "name": "stderr",
     "output_type": "stream",
     "text": [
      "/opt/homebrew/anaconda3/envs/test/lib/python3.10/site-packages/coniii/solvers.py:96: UserWarning: Assuming that calc_observables should be for Ising model.\n",
      "  if iprint: warn(\"Assuming that calc_observables should be for Ising model.\")\n",
      "/opt/homebrew/anaconda3/envs/test/lib/python3.10/site-packages/coniii/samplers.py:1187: UserWarning: Boost C++ implementation not available. Defaulting to slower sampling methods.\n",
      "  warn(\"Boost C++ implementation not available. Defaulting to slower sampling methods.\")\n"
     ]
    },
    {
     "name": "stdout",
     "output_type": "stream",
     "text": [
      "adaptiveClusterExpansion: Clusters of size 2\n"
     ]
    },
    {
     "name": "stderr",
     "output_type": "stream",
     "text": [
      "/opt/homebrew/anaconda3/envs/test/lib/python3.10/site-packages/scipy/optimize/_minpack_py.py:492: RuntimeWarning: Number of calls to function has reached maxfev = 800.\n",
      "  warnings.warn(errors[info][0], RuntimeWarning)\n"
     ]
    },
    {
     "name": "stdout",
     "output_type": "stream",
     "text": [
      "adaptiveClusterExpansion: Clusters of size 3\n"
     ]
    }
   ],
   "source": [
    "solver = ClusterExpansion(samples.T)\n",
    "\n",
    "multipliers, ent, clusters, deltaSdict, deltaJdict= solver.solve(threshold=0.1, full_output=True)"
   ]
  },
  {
   "cell_type": "code",
   "execution_count": 49,
   "metadata": {},
   "outputs": [],
   "source": [
    "J = multipliers[FISH_N:]\n",
    "\n",
    "# 创建一个 N*N 的零矩阵\n",
    "matrix = np.zeros((FISH_N, FISH_N))\n",
    "\n",
    "# # 使用数组的前N个元素填充对角线\n",
    "# matrix[np.diag_indices(FISH_N)] = multipliers[:FISH_N]\n",
    "\n",
    "# 使用数组的后N+2(N*N-1)个元素填充上半矩阵\n",
    "index = FISH_N\n",
    "for i in range(FISH_N):\n",
    "    for j in range(i+1, FISH_N):\n",
    "        matrix[i, j] = multipliers[index]\n",
    "        index += 1\n",
    "# 获取上半矩阵（包含对角线）\n",
    "upper_matrix = np.triu(matrix)\n",
    "\n",
    "# 转置上半矩阵并将其添加到下半部分\n",
    "lower_matrix = np.transpose(upper_matrix)\n",
    "lower_matrix = np.tril(lower_matrix, -1)\n",
    "\n",
    "# 将上半矩阵和转置的下半矩阵相加得到完整的矩阵\n",
    "final_matrix = upper_matrix + lower_matrix"
   ]
  },
  {
   "cell_type": "code",
   "execution_count": 58,
   "metadata": {},
   "outputs": [
    {
     "data": {
      "text/plain": [
       "<matplotlib.colorbar.Colorbar at 0x165575330>"
      ]
     },
     "execution_count": 58,
     "metadata": {},
     "output_type": "execute_result"
    },
    {
     "data": {
      "image/png": "[encoded data removed]",
      "text/plain": [
       "<Figure size 640x480 with 2 Axes>"
      ]
     },
     "metadata": {},
     "output_type": "display_data"
    }
   ],
   "source": [
    "#plot imshow and add lines\n",
    "plt.imshow(final_matrix, aspect=\"auto\", cmap=\"gray\")\n",
    "ax = plt.gca() # 获取当前的坐标轴\n",
    "ax.set_xticks([x-0.5 for x in range(1, final_matrix.shape[1])], minor=True) # 设置x轴的小刻度\n",
    "ax.set_yticks([y-0.5 for y in range(1, final_matrix.shape[0])], minor=True) # 设置y轴的小刻度\n",
    "plt.grid(which='minor', linestyle='-', linewidth=2)\n",
    "plt.colorbar()"
   ]
  }
 ],
 "metadata": {
  "kernelspec": {
   "display_name": "Python 3 (ipykernel)",
   "language": "python",
   "name": "python3"
  },
  "language_info": {
   "codemirror_mode": {
    "name": "ipython",
    "version": 3
   },
   "file_extension": ".py",
   "mimetype": "text/x-python",
   "name": "python",
   "nbconvert_exporter": "python",
   "pygments_lexer": "ipython3",
   "version": "3.10.12"
  }
 },
 "nbformat": 4,
 "nbformat_minor": 1
}
