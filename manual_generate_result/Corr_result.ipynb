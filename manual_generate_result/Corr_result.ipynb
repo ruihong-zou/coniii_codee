{
 "cells": [
  {
   "cell_type": "code",
   "execution_count": 1,
   "id": "79ba401d",
   "metadata": {},
   "outputs": [
    {
     "name": "stderr",
     "output_type": "stream",
     "text": [
      "C:\\Users\\Riickyyy\\anaconda3\\envs\\coniii\\lib\\site-packages\\coniii\\samplers.py:381: NumbaDeprecationWarning: \u001b[1mThe 'nopython' keyword argument was not supplied to the 'numba.jit' decorator. The implicit default value for this argument is currently False, but it will be changed to True in Numba 0.59.0. See https://numba.readthedocs.io/en/stable/reference/deprecation.html#deprecation-of-object-mode-fall-back-behaviour-when-using-jit for details.\u001b[0m\n",
      "  def iterate_neighbors(n,ix,expdJ,r):\n",
      "C:\\Users\\Riickyyy\\anaconda3\\envs\\coniii\\lib\\site-packages\\coniii\\samplers.py:2342: NumbaDeprecationWarning: \u001b[1mThe 'nopython' keyword argument was not supplied to the 'numba.jit' decorator. The implicit default value for this argument is currently False, but it will be changed to True in Numba 0.59.0. See https://numba.readthedocs.io/en/stable/reference/deprecation.html#deprecation-of-object-mode-fall-back-behaviour-when-using-jit for details.\u001b[0m\n",
      "  def cross(vec1, vec2):\n"
     ]
    }
   ],
   "source": [
    "from coniii import *\n",
    "# address C:\\Users\\Riickyyy\\anaconda3\\envs\\coniii\\Lib\\site-packages\\coniii"
   ]
  },
  {
   "cell_type": "code",
   "execution_count": 2,
   "id": "8754a914",
   "metadata": {
    "scrolled": true
   },
   "outputs": [],
   "source": [
    "# Total Timeline T = 100\n",
    "T = 500\n",
    "# Number of neuros\n",
    "N = 8\n",
    "\n",
    "#Spike Apear Probability in Timeline \n",
    "Spikes_Probability = 0.1\n",
    "#Number of Random Firing Timeline Points\n",
    "N_tp = int(T * Spikes_Probability)\n",
    "# Number of classify group\n",
    "N_groups = 4\n",
    "\n",
    "# Create Random Neuros Spikes Timeline (N_groups tpyes overall)\n",
    "Random_NT = np.random.permutation(T)\n",
    "\n",
    "# N_tp(10) random time points of firing for group i(overall is 4)\n",
    "# Each Group Size is  (N_tp,1) contains the Random Firing Timeline Points\n",
    "groups = []\n",
    "for i in range(N_groups):\n",
    "    start_index = i * N_tp\n",
    "    end_index = (i + 1) * N_tp\n",
    "    group = Random_NT[start_index:end_index]\n",
    "    groups.append(group)"
   ]
  },
  {
   "cell_type": "code",
   "execution_count": 3,
   "id": "18aeba5f",
   "metadata": {},
   "outputs": [],
   "source": [
    "# Initializing Samples() to 0(8*10) and datatype\n",
    "firing_rate = 0.8\n",
    "samples = np.zeros((N,T), dtype = np.float32)\n",
    "\n",
    "# Generate samples for each group\n",
    "num_samples = int(N/N_groups)\n",
    "\n",
    "for i, group in enumerate(groups):\n",
    "    start_sample = int(num_samples * i)\n",
    "    end_sample = int(num_samples * (i+1))\n",
    "    samples[start_sample:end_sample, group] = (np.random.rand(num_samples, len(group)) < firing_rate)\n",
    "    \n",
    "# # Pick the Random Firing Timeline Points(set 2 * 10 ) in the Whole Samples\n",
    "# # Use Bool to Control the T/F (1/0)\n",
    "# samples[: int(N/N_groups), groups[0]] = (np.random.rand(int(N/N_groups),len(groups[0])) < firing_rate)\n",
    "# samples[: int(N/N_groups), groups[1]] = (np.random.rand(int(N/N_groups),len(groups[1])) < firing_rate)\n",
    "# samples[: int(N/N_groups), groups[2]] = (np.random.rand(int(N/N_groups),len(groups[2])) < firing_rate)\n",
    "# samples[: int(N/N_groups), groups[3]] = (np.random.rand(int(N/N_groups),len(groups[3])) < firing_rate)"
   ]
  },
  {
   "cell_type": "code",
   "execution_count": 4,
   "id": "fd52c1cf",
   "metadata": {},
   "outputs": [
    {
     "data": {
      "text/plain": [
       "(2, 50)"
      ]
     },
     "execution_count": 4,
     "metadata": {},
     "output_type": "execute_result"
    }
   ],
   "source": [
    "np.random.rand(num_samples, len(group)).shape"
   ]
  },
  {
   "cell_type": "code",
   "execution_count": 5,
   "id": "73387024",
   "metadata": {},
   "outputs": [
    {
     "data": {
      "text/plain": [
       "<matplotlib.image.AxesImage at 0x23823784fa0>"
      ]
     },
     "execution_count": 5,
     "metadata": {},
     "output_type": "execute_result"
    },
    {
     "data": {
      "image/png": "[encoded data removed]",
      "text/plain": [
       "<Figure size 640x480 with 1 Axes>"
      ]
     },
     "metadata": {},
     "output_type": "display_data"
    }
   ],
   "source": [
    "import matplotlib.pyplot as plt\n",
    "plt.figure(figsize=(8, 6), dpi=80)\n",
    "plt.imshow(samples, aspect=\"auto\", cmap=\"gray_r\", interpolation=\"none\")"
   ]
  },
  {
   "cell_type": "code",
   "execution_count": 6,
   "id": "eb01b6f9",
   "metadata": {},
   "outputs": [],
   "source": [
    "from coniii.utils import define_ising_helper_functions\n",
    "from coniii import ClusterExpansion, pair_corr\n",
    "\n",
    "import matplotlib.pyplot as plt\n",
    "import numpy as np"
   ]
  },
  {
   "cell_type": "code",
   "execution_count": 7,
   "id": "760e9c5b",
   "metadata": {},
   "outputs": [],
   "source": [
    "calc_e, calc_observables, mchApproximation = define_ising_helper_functions()"
   ]
  },
  {
   "cell_type": "code",
   "execution_count": null,
   "id": "378c8e07",
   "metadata": {},
   "outputs": [],
   "source": []
  },
  {
   "cell_type": "code",
   "execution_count": null,
   "id": "8fd512b0",
   "metadata": {},
   "outputs": [],
   "source": []
  },
  {
   "cell_type": "markdown",
   "id": "0c7494ca",
   "metadata": {},
   "source": [
    "test artifical data "
   ]
  },
  {
   "cell_type": "code",
   "execution_count": 8,
   "id": "9997f7a4",
   "metadata": {},
   "outputs": [],
   "source": [
    "import matplotlib.pyplot as plt\n",
    "import h5py\n",
    "file = h5py.File('C:\\\\Users\\\\Riickyyy\\\\Desktop\\\\RA\\\\~\\\\HEX5_K5_medium__T1800s_dT500ms_cT1s_sKInf_eF10.0mHz_eM6_nS0\\\\HEX5_K5_medium__T1800s_dT500ms_cT1s_sKInf_eF10.0mHz_eM6_nS0_ACTIVITY-RASTER.mat', 'r')"
   ]
  },
  {
   "cell_type": "code",
   "execution_count": 9,
   "id": "a5138b13",
   "metadata": {},
   "outputs": [],
   "source": [
    "es_samples = np.array(file['activity_raster']) ##如何加进度条"
   ]
  },
  {
   "cell_type": "code",
   "execution_count": 10,
   "id": "b0b15c88",
   "metadata": {},
   "outputs": [
    {
     "data": {
      "text/plain": [
       "(91, 3600)"
      ]
     },
     "execution_count": 10,
     "metadata": {},
     "output_type": "execute_result"
    }
   ],
   "source": [
    "es_samples.shape"
   ]
  },
  {
   "cell_type": "code",
   "execution_count": 11,
   "id": "2f01d8bf",
   "metadata": {},
   "outputs": [],
   "source": [
    "es_samples[es_samples == 0] = -1"
   ]
  },
  {
   "cell_type": "code",
   "execution_count": 12,
   "id": "32c1440a",
   "metadata": {},
   "outputs": [
    {
     "name": "stderr",
     "output_type": "stream",
     "text": [
      "C:\\Users\\Riickyyy\\anaconda3\\envs\\coniii\\lib\\site-packages\\coniii\\solvers.py:96: UserWarning: Assuming that calc_observables should be for Ising model.\n",
      "  if iprint: warn(\"Assuming that calc_observables should be for Ising model.\")\n",
      "C:\\Users\\Riickyyy\\anaconda3\\envs\\coniii\\lib\\site-packages\\coniii\\samplers.py:1187: UserWarning: Boost C++ implementation not available. Defaulting to slower sampling methods.\n",
      "  warn(\"Boost C++ implementation not available. Defaulting to slower sampling methods.\")\n"
     ]
    },
    {
     "name": "stdout",
     "output_type": "stream",
     "text": [
      "adaptiveClusterExpansion: Clusters of size 2\n"
     ]
    },
    {
     "name": "stderr",
     "output_type": "stream",
     "text": [
      "C:\\Users\\Riickyyy\\anaconda3\\envs\\coniii\\lib\\site-packages\\scipy\\optimize\\_minpack_py.py:492: RuntimeWarning: Number of calls to function has reached maxfev = 800.\n",
      "  warnings.warn(errors[info][0], RuntimeWarning)\n"
     ]
    },
    {
     "name": "stdout",
     "output_type": "stream",
     "text": [
      "adaptiveClusterExpansion: Clusters of size 3\n",
      "adaptiveClusterExpansion: Clusters of size 4\n",
      "adaptiveClusterExpansion: Clusters of size 5\n",
      "adaptiveClusterExpansion: Clusters of size 6\n",
      "adaptiveClusterExpansion: Clusters of size 7\n"
     ]
    }
   ],
   "source": [
    "# Declare and call solver.\n",
    "\n",
    "solver = ClusterExpansion(es_samples.T)\n",
    "\n",
    "multipliers, ent, clusters, deltaSdict, deltaJdict= solver.solve(threshold=1e-2, full_output=True)"
   ]
  },
  {
   "cell_type": "code",
   "execution_count": 25,
   "id": "d246704e",
   "metadata": {},
   "outputs": [
    {
     "name": "stdout",
     "output_type": "stream",
     "text": [
      "Location: (2, 19), Value: 0.035578677357613886\n",
      "Location: (2, 35), Value: 0.11159283800486397\n",
      "Location: (2, 36), Value: 0.11197212688511526\n",
      "Location: (2, 37), Value: 0.34352598155309444\n",
      "Location: (2, 59), Value: 0.5686617254299727\n",
      "Location: (2, 61), Value: 0.07897239710146764\n",
      "Location: (2, 62), Value: -0.03543486760434744\n",
      "Location: (2, 88), Value: -0.9205768699639203\n",
      "Location: (2, 90), Value: -0.8771439110870833\n",
      "Location: (4, 11), Value: 0.6536523602659415\n",
      "Location: (4, 13), Value: 0.6822159582196212\n",
      "Location: (4, 24), Value: 0.48787565825657975\n",
      "Location: (4, 25), Value: 0.6563651553837168\n",
      "Location: (4, 26), Value: 0.6536523602659415\n",
      "Location: (4, 44), Value: 0.6979896038865717\n",
      "Location: (4, 70), Value: 0.6572937128625355\n",
      "Location: (6, 16), Value: 0.6398417812503367\n",
      "Location: (6, 32), Value: 0.6476796581805295\n",
      "Location: (6, 56), Value: 0.6896124509296097\n",
      "Location: (6, 82), Value: 0.5961525047036802\n",
      "Location: (7, 16), Value: 0.6032619885338136\n",
      "Location: (7, 19), Value: -0.23895413664380377\n",
      "Location: (7, 35), Value: -0.31618032593071554\n",
      "Location: (7, 36), Value: -0.2773717002093268\n",
      "Location: (7, 37), Value: -0.21200027616351108\n",
      "Location: (7, 56), Value: 0.6264648067807197\n",
      "Location: (7, 61), Value: -0.2259014423098809\n",
      "Location: (7, 62), Value: 0.5969405114423859\n",
      "Location: (7, 90), Value: 0.212732600770291\n",
      "Location: (8, 9), Value: -0.7485571241158772\n",
      "Location: (8, 10), Value: -0.5659084609617594\n",
      "Location: (8, 20), Value: -0.5170672110907432\n",
      "Location: (8, 21), Value: 0.6624106419654574\n",
      "Location: (8, 22), Value: -0.4922649097576355\n",
      "Location: (8, 38), Value: -0.27872913650553943\n",
      "Location: (8, 39), Value: -0.14899617052372022\n",
      "Location: (8, 40), Value: -0.7072364947514622\n",
      "Location: (8, 41), Value: -0.44975664346676003\n",
      "Location: (8, 63), Value: -0.4620229801383623\n",
      "Location: (8, 64), Value: 0.6581185773100832\n",
      "Location: (8, 65), Value: 0.14724143013656837\n",
      "Location: (8, 66), Value: -0.6933464987310374\n",
      "Location: (9, 10), Value: 0.07891659680835078\n",
      "Location: (9, 20), Value: -0.5883137451768852\n",
      "Location: (9, 21), Value: 0.6352638651386769\n",
      "Location: (9, 22), Value: -0.34782613034270615\n",
      "Location: (9, 38), Value: -0.47525785142427535\n",
      "Location: (9, 39), Value: -0.19832303152554165\n",
      "Location: (9, 40), Value: -0.34405385194005966\n",
      "Location: (9, 41), Value: -0.4414383383820154\n",
      "Location: (9, 63), Value: -0.360651550528721\n",
      "Location: (9, 65), Value: 0.42784455781520714\n",
      "Location: (9, 66), Value: -0.24012582935153703\n",
      "Location: (10, 20), Value: -0.5954227314616888\n",
      "Location: (10, 21), Value: 0.653702986862445\n",
      "Location: (10, 22), Value: -0.8434446774717745\n",
      "Location: (10, 38), Value: -0.4102605905472022\n",
      "Location: (10, 39), Value: 0.5897484074724786\n",
      "Location: (10, 40), Value: -0.02622302605683763\n",
      "Location: (10, 41), Value: -0.709994731209582\n",
      "Location: (10, 63), Value: -0.8679410429280005\n",
      "Location: (10, 65), Value: 0.5736661427781292\n",
      "Location: (10, 66), Value: -0.2139208983371118\n",
      "Location: (11, 24), Value: 0.6967838782048548\n",
      "Location: (11, 25), Value: 0.6775826037275116\n",
      "Location: (11, 69), Value: 0.5716568079072302\n",
      "Location: (12, 24), Value: 0.6418260944211257\n",
      "Location: (13, 24), Value: 0.5774547086370223\n",
      "Location: (13, 25), Value: 0.5517075414706388\n",
      "Location: (13, 26), Value: 0.6999141114611808\n",
      "Location: (13, 45), Value: 0.6992353650254582\n",
      "Location: (13, 70), Value: 0.6508955020658159\n",
      "Location: (14, 17), Value: 0.6217083224700184\n",
      "Location: (14, 28), Value: -0.14956377533797527\n",
      "Location: (14, 29), Value: 0.11070257065051958\n",
      "Location: (14, 30), Value: 0.0020447269840894178\n",
      "Location: (14, 31), Value: 0.33453902415822834\n",
      "Location: (14, 33), Value: -0.17569283071846215\n",
      "Location: (14, 47), Value: 0.1358996907179818\n",
      "Location: (14, 48), Value: 0.41299097495543424\n",
      "Location: (14, 49), Value: 0.15493219125362545\n",
      "Location: (14, 51), Value: -0.11089596050486616\n",
      "Location: (14, 52), Value: 0.3359266086904327\n",
      "Location: (14, 76), Value: 0.1457738690921077\n",
      "Location: (14, 80), Value: -0.4662528540358606\n",
      "Location: (16, 32), Value: 0.5197571233850629\n",
      "Location: (16, 34), Value: 0.7536056953907996\n",
      "Location: (16, 54), Value: 0.6522906473158476\n",
      "Location: (16, 55), Value: 0.7316995352358456\n",
      "Location: (16, 56), Value: 0.6009982814902792\n",
      "Location: (16, 82), Value: 0.6847955978012044\n",
      "Location: (16, 84), Value: 0.7153269420358115\n",
      "Location: (17, 28), Value: 0.08491114929668608\n",
      "Location: (17, 31), Value: 0.3664831288989216\n",
      "Location: (17, 33), Value: 0.6820961383422385\n",
      "Location: (17, 47), Value: 0.1829683395774364\n",
      "Location: (17, 51), Value: 0.0997589374544976\n",
      "Location: (17, 56), Value: 0.619914710381032\n",
      "Location: (17, 80), Value: 0.5531724300428111\n",
      "Location: (19, 35), Value: 0.3618375362556563\n",
      "Location: (19, 36), Value: 0.44829751133499185\n",
      "Location: (19, 37), Value: 0.44344207722191065\n",
      "Location: (19, 59), Value: -0.12120448944603263\n",
      "Location: (19, 60), Value: 0.05534704048399136\n",
      "Location: (19, 61), Value: 0.35447449162178657\n",
      "Location: (19, 62), Value: 0.3125564032566912\n",
      "Location: (19, 88), Value: 0.5865109770647272\n",
      "Location: (19, 90), Value: 0.42676966338354705\n",
      "Location: (20, 21), Value: -0.02243987772512107\n",
      "Location: (20, 22), Value: 0.0552062714441629\n",
      "Location: (20, 38), Value: -0.5883007631998454\n",
      "Location: (20, 39), Value: -0.1487101031143907\n",
      "Location: (20, 40), Value: -0.7943850976849394\n",
      "Location: (20, 41), Value: -0.2355064206474612\n",
      "Location: (20, 63), Value: -0.3178301086145967\n",
      "Location: (20, 64), Value: 0.6439354445556611\n",
      "Location: (20, 65), Value: 0.13363864066850317\n",
      "Location: (20, 66), Value: -0.6157781826032578\n",
      "Location: (21, 22), Value: -0.506201776024136\n",
      "Location: (21, 38), Value: 0.08454666800556981\n",
      "Location: (21, 39), Value: 0.6161611536636543\n",
      "Location: (21, 40), Value: 0.43925193001361484\n",
      "Location: (21, 41), Value: -0.22752503700003845\n",
      "Location: (21, 63), Value: 0.14609789355859865\n",
      "Location: (21, 64), Value: 0.6713587368448268\n",
      "Location: (21, 66), Value: 0.11766513481573482\n",
      "Location: (22, 38), Value: -0.24296994466874788\n",
      "Location: (22, 39), Value: -0.6558741471025848\n",
      "Location: (22, 40), Value: -0.637856759602979\n",
      "Location: (22, 41), Value: -0.34851241962756285\n",
      "Location: (22, 63), Value: -0.01252985373799842\n",
      "Location: (22, 64), Value: 0.6843723150334421\n",
      "Location: (22, 65), Value: -0.3347268254003399\n",
      "Location: (22, 66), Value: -1.0913303632486464\n",
      "Location: (23, 24), Value: 0.6426398675880761\n",
      "Location: (23, 25), Value: 0.6108996398446812\n",
      "Location: (24, 25), Value: -0.08596674533614379\n",
      "Location: (24, 26), Value: 0.4825523670758937\n",
      "Location: (24, 44), Value: 0.4331432757456579\n",
      "Location: (24, 45), Value: 0.5524676858377829\n",
      "Location: (24, 46), Value: 0.6484268033587409\n",
      "Location: (24, 69), Value: 0.6366231758680758\n",
      "Location: (24, 70), Value: 0.5798156889971945\n",
      "Location: (25, 26), Value: 0.5872886728038277\n",
      "Location: (25, 44), Value: 0.5841518760142466\n",
      "Location: (25, 45), Value: 0.5004902483315601\n",
      "Location: (25, 46), Value: 0.6700609998186974\n",
      "Location: (25, 69), Value: 0.6693644665961627\n",
      "Location: (25, 70), Value: 0.4780806070533348\n",
      "Location: (26, 44), Value: 0.648565751858926\n",
      "Location: (26, 45), Value: 0.6173157649284047\n",
      "Location: (26, 69), Value: 0.5845538377774816\n",
      "Location: (26, 70), Value: 0.7022949150908575\n",
      "Location: (28, 29), Value: 0.22669225120536884\n",
      "Location: (28, 30), Value: 0.11951739234807968\n",
      "Location: (28, 31), Value: 0.41054576270668197\n",
      "Location: (28, 33), Value: -0.027759989977371502\n",
      "Location: (28, 47), Value: 0.44347394481194846\n",
      "Location: (28, 48), Value: -0.032879275904494354\n",
      "Location: (28, 49), Value: 0.3329862514203864\n",
      "Location: (28, 51), Value: 0.31435176403232234\n",
      "Location: (28, 52), Value: -0.2858030309502783\n",
      "Location: (28, 76), Value: 0.14440825471810048\n",
      "Location: (28, 80), Value: 0.08182192265775612\n",
      "Location: (29, 31), Value: -0.06382210345834755\n",
      "Location: (29, 47), Value: 0.05775724879818539\n",
      "Location: (29, 49), Value: 0.25120344777039816\n",
      "Location: (29, 51), Value: -0.12559845127642277\n",
      "Location: (29, 52), Value: 0.5904507200814342\n",
      "Location: (29, 76), Value: 0.6164529093104948\n",
      "Location: (30, 31), Value: -0.01492529264863146\n",
      "Location: (30, 47), Value: -0.037190295404194273\n",
      "Location: (30, 48), Value: 0.6214487859622789\n",
      "Location: (30, 49), Value: 0.22350335161709894\n",
      "Location: (30, 51), Value: 0.2145214945507255\n",
      "Location: (31, 47), Value: 0.08477983071563278\n",
      "Location: (31, 48), Value: 0.45926644228776103\n",
      "Location: (31, 49), Value: -0.16141335107038834\n",
      "Location: (31, 51), Value: 0.10053748491670511\n",
      "Location: (31, 52), Value: 0.3812416202146494\n",
      "Location: (31, 76), Value: 0.6127217428996715\n",
      "Location: (31, 80), Value: 0.18509713805310468\n",
      "Location: (32, 34), Value: 0.6946947168205403\n",
      "Location: (32, 54), Value: 0.621754528398518\n",
      "Location: (32, 55), Value: 0.686891398816358\n",
      "Location: (32, 56), Value: 0.6743391235856399\n",
      "Location: (32, 82), Value: 0.6676785186589264\n",
      "Location: (32, 84), Value: 0.6708468622942788\n",
      "Location: (33, 47), Value: 0.23772665901951728\n",
      "Location: (33, 48), Value: 0.6424363824312573\n",
      "Location: (33, 49), Value: 0.27013190594188674\n",
      "Location: (33, 51), Value: 0.11656506155934687\n",
      "Location: (33, 76), Value: 0.6176874315974306\n",
      "Location: (34, 54), Value: 0.6484485424304218\n",
      "Location: (34, 55), Value: 0.642785788497917\n",
      "Location: (34, 56), Value: 0.7918956326201632\n",
      "Location: (34, 82), Value: 0.6372037330110457\n",
      "Location: (34, 84), Value: 0.6813990751331904\n",
      "Location: (35, 36), Value: 0.3957380543233885\n",
      "Location: (35, 37), Value: 0.08054822094878322\n",
      "Location: (35, 59), Value: -0.11002941016139339\n",
      "Location: (35, 60), Value: -0.23663764112430868\n",
      "Location: (35, 61), Value: 0.4494196979197327\n",
      "Location: (35, 62), Value: 0.29718557662971856\n",
      "Location: (35, 88), Value: 0.5773544494783379\n",
      "Location: (35, 90), Value: 0.41139321883090574\n",
      "Location: (36, 37), Value: 0.49414269576442105\n",
      "Location: (36, 59), Value: 0.05476031345212684\n",
      "Location: (36, 60), Value: 0.13118423004050195\n",
      "Location: (36, 61), Value: 0.16610532891282992\n",
      "Location: (36, 62), Value: 0.7433212693587657\n",
      "Location: (36, 88), Value: 0.17358984077791162\n",
      "Location: (36, 90), Value: 0.025672452370726906\n",
      "Location: (37, 59), Value: 0.008874530549810411\n",
      "Location: (37, 60), Value: -0.5027881789156216\n",
      "Location: (37, 61), Value: 0.31336007507992913\n",
      "Location: (37, 62), Value: 0.6635048161650592\n",
      "Location: (37, 88), Value: 0.6192082162473216\n",
      "Location: (37, 90), Value: 0.2020746452700105\n",
      "Location: (38, 39), Value: -0.13014860935300898\n",
      "Location: (38, 40), Value: -0.8744861861455688\n",
      "Location: (38, 41), Value: -0.43326546785480036\n",
      "Location: (38, 63), Value: -0.38210215528409464\n",
      "Location: (38, 64), Value: 0.6214557915031232\n",
      "Location: (38, 65), Value: -0.08311689921557969\n",
      "Location: (38, 66), Value: -0.6886533141052963\n",
      "Location: (39, 40), Value: -0.2729862226671183\n",
      "Location: (39, 41), Value: -0.768287063209539\n",
      "Location: (39, 63), Value: -0.7276327460331606\n",
      "Location: (39, 65), Value: 0.5606523537893209\n",
      "Location: (39, 66), Value: 0.11610802328613973\n",
      "Location: (40, 41), Value: -0.7816510007191686\n",
      "Location: (40, 63), Value: -0.6092729739250377\n",
      "Location: (40, 64), Value: 0.6313580760268847\n",
      "Location: (40, 65), Value: 0.5981642290341955\n",
      "Location: (40, 66), Value: -0.2913640508287121\n",
      "Location: (41, 63), Value: -0.2575456558283966\n",
      "Location: (41, 64), Value: 0.6599606638213209\n",
      "Location: (41, 65), Value: -0.3536886658510866\n",
      "Location: (41, 66), Value: -0.8280608909839845\n",
      "Location: (44, 70), Value: 0.6512208459725736\n",
      "Location: (45, 70), Value: 0.5942439776436572\n",
      "Location: (47, 48), Value: 0.21246070532146122\n",
      "Location: (47, 49), Value: 0.07537319327014846\n",
      "Location: (47, 51), Value: 0.020080256912648142\n",
      "Location: (47, 52), Value: 0.05948564596080319\n",
      "Location: (47, 76), Value: 0.13247072929712406\n",
      "Location: (47, 80), Value: 0.04195528882734023\n",
      "Location: (48, 49), Value: 0.3153940596141492\n",
      "Location: (48, 51), Value: 0.5407753334760719\n",
      "Location: (48, 52), Value: 0.6371244381423827\n",
      "Location: (48, 76), Value: 0.6500598835856144\n",
      "Location: (48, 80), Value: -0.3567546734607342\n",
      "Location: (49, 51), Value: 0.09197005107593248\n",
      "Location: (49, 52), Value: 0.33574384662060114\n",
      "Location: (49, 76), Value: -0.022299674337302233\n",
      "Location: (49, 80), Value: -0.25940458090936264\n",
      "Location: (51, 52), Value: 0.2693747797973076\n",
      "Location: (51, 76), Value: 0.006188742048041873\n",
      "Location: (51, 80), Value: -0.19606798972402106\n",
      "Location: (52, 76), Value: 0.5739356723580927\n",
      "Location: (52, 80), Value: 0.5847602837387583\n",
      "Location: (54, 56), Value: 0.6891613365154079\n",
      "Location: (55, 56), Value: 0.7956206038675189\n",
      "Location: (55, 82), Value: 0.660091602831199\n",
      "Location: (55, 84), Value: 0.6480008655220179\n",
      "Location: (56, 82), Value: 0.7893008661364246\n",
      "Location: (56, 84), Value: 0.7814707395047592\n",
      "Location: (59, 61), Value: 0.5632487621146791\n",
      "Location: (59, 62), Value: 0.5914373683292626\n",
      "Location: (60, 61), Value: -0.3781819183956891\n",
      "Location: (60, 62), Value: 0.2516953453737328\n",
      "Location: (60, 88), Value: 0.5945997046805199\n",
      "Location: (60, 90), Value: 0.31951853570165356\n",
      "Location: (61, 62), Value: 0.8015736869960315\n",
      "Location: (61, 88), Value: 0.20827102060356306\n",
      "Location: (61, 90), Value: 0.1707071300669597\n",
      "Location: (62, 88), Value: 0.5439271044893051\n",
      "Location: (62, 90), Value: 0.24781698958548837\n",
      "Location: (63, 64), Value: 0.6439354445556611\n",
      "Location: (63, 65), Value: -0.05626524471768585\n",
      "Location: (63, 66), Value: -0.8173690755557831\n",
      "Location: (64, 66), Value: 0.65836418136004\n",
      "Location: (65, 66), Value: 0.41928863300806757\n",
      "Location: (69, 70), Value: 0.6226302088689858\n",
      "Location: (82, 84), Value: 0.6567077556761861\n",
      "Location: (88, 90), Value: 0.46279712097695347\n"
     ]
    }
   ],
   "source": [
    "N = es_samples.shape[0]\n",
    "\n",
    "J = multipliers[N:]\n",
    "# constructing the coordinates\n",
    "coords = [(i, j) for i in range(1, N) for j in range(i+1, N+1)]\n",
    "\n",
    "# filtering the values and their locations\n",
    "non_zero_values = [(coords[i], val) for i, val in enumerate(J) if val != 0]\n",
    "\n",
    "# print the results\n",
    "for location, value in non_zero_values:\n",
    "    print(f\"Location: {location}, Value: {value}\")"
   ]
  },
  {
   "cell_type": "code",
   "execution_count": 52,
   "id": "939db428",
   "metadata": {},
   "outputs": [],
   "source": [
    "first_elements = [row[0] for row in non_zero_values]\n"
   ]
  },
  {
   "cell_type": "code",
   "execution_count": 55,
   "id": "0e275304",
   "metadata": {},
   "outputs": [
    {
     "ename": "TypeError",
     "evalue": "'list' object is not callable",
     "output_type": "error",
     "traceback": [
      "\u001b[1;31m---------------------------------------------------------------------------\u001b[0m",
      "\u001b[1;31mTypeError\u001b[0m                                 Traceback (most recent call last)",
      "Cell \u001b[1;32mIn[55], line 23\u001b[0m\n\u001b[0;32m     20\u001b[0m     unique_pairs_set\u001b[38;5;241m.\u001b[39mupdate(sorted_pairs)\n\u001b[0;32m     22\u001b[0m \u001b[38;5;66;03m# 为了方便查看，可以转换成列表并打印\u001b[39;00m\n\u001b[1;32m---> 23\u001b[0m grand_truth \u001b[38;5;241m=\u001b[39m \u001b[38;5;28;43mlist\u001b[39;49m\u001b[43m(\u001b[49m\u001b[43munique_pairs_set\u001b[49m\u001b[43m)\u001b[49m\n",
      "\u001b[1;31mTypeError\u001b[0m: 'list' object is not callable"
     ]
    }
   ],
   "source": [
    "from itertools import combinations\n",
    "\n",
    "# 定义你的列表\n",
    "list1 = [14,15,17,28,29,30,31,33,47,48,49,51,52,76,80]\n",
    "list2 = [9,10,20,21,22,39,40,41,63,64,8,38,65,66]\n",
    "list3 = [6,7,16,17,32,33,34,53,54,55,82,84,56]\n",
    "list4 = [2,7,18,19,35,36,37,59,60,61,62,88,90]\n",
    "list5 = [1,4,11,12,13,23,24,25,26,44,45,46,69,70]\n",
    "\n",
    "# 将所有列表放到一个大列表里\n",
    "lists = [list1, list2, list3, list4, list5]\n",
    "\n",
    "# 使用一个set存储所有的唯一对\n",
    "unique_pairs_set = set()\n",
    "\n",
    "# 对于大列表中的每一个列表，使用itertools.combinations找到所有的两两组合\n",
    "for lst in lists:\n",
    "    pairs = combinations(lst, 2)\n",
    "    sorted_pairs = [tuple(sorted(pair)) for pair in pairs]\n",
    "    unique_pairs_set.update(sorted_pairs)\n",
    "\n",
    "# 为了方便查看，可以转换成列表并打印\n",
    "grand_truth = list(unique_pairs_set)"
   ]
  },
  {
   "cell_type": "code",
   "execution_count": 13,
   "id": "b2bf3f92",
   "metadata": {},
   "outputs": [],
   "source": [
    "nonzero_indices = np.nonzero(multipliers)"
   ]
  },
  {
   "cell_type": "code",
   "execution_count": 14,
   "id": "e2527e48",
   "metadata": {},
   "outputs": [
    {
     "data": {
      "text/plain": [
       "(378,)"
      ]
     },
     "execution_count": 14,
     "metadata": {},
     "output_type": "execute_result"
    }
   ],
   "source": [
    "(nonzero_indices[0]).shape"
   ]
  },
  {
   "cell_type": "code",
   "execution_count": 15,
   "id": "c3f689ef",
   "metadata": {},
   "outputs": [],
   "source": [
    "N = es_samples.shape[0]\n",
    "\n",
    "J = multipliers[N:]\n",
    "\n",
    "# 创建一个 N*N 的零矩阵\n",
    "matrix = np.zeros((N, N))\n",
    "\n",
    "# # 使用数组的前N个元素填充对角线\n",
    "# matrix[np.diag_indices(FISH_N)] = multipliers[:FISH_N]\n",
    "\n",
    "# 使用数组的后N+2(N*N-1)个元素填充上半矩阵\n",
    "index = N\n",
    "for i in range(N):\n",
    "    for j in range(i+1, N):\n",
    "        matrix[i, j] = multipliers[index]\n",
    "        index += 1\n",
    "# 获取上半矩阵（包含对角线）\n",
    "upper_matrix = np.triu(matrix)\n",
    "\n",
    "# 转置上半矩阵并将其添加到下半部分\n",
    "lower_matrix = np.transpose(upper_matrix)\n",
    "lower_matrix = np.tril(lower_matrix, -1)\n",
    "\n",
    "# 将上半矩阵和转置的下半矩阵相加得到完整的矩阵\n",
    "final_matrix = upper_matrix + lower_matrix"
   ]
  },
  {
   "cell_type": "code",
   "execution_count": 16,
   "id": "60867b58",
   "metadata": {},
   "outputs": [
    {
     "data": {
      "text/plain": [
       "array([[ 0.        ,  0.        ,  0.        , ...,  0.        ,\n",
       "         0.        ,  0.        ],\n",
       "       [ 0.        ,  0.        ,  0.        , ...,  0.        ,\n",
       "        -0.87714391,  0.        ],\n",
       "       [ 0.        ,  0.        ,  0.        , ...,  0.        ,\n",
       "         0.        ,  0.        ],\n",
       "       ...,\n",
       "       [ 0.        ,  0.        ,  0.        , ...,  0.        ,\n",
       "         0.        ,  0.        ],\n",
       "       [ 0.        , -0.87714391,  0.        , ...,  0.        ,\n",
       "         0.        ,  0.        ],\n",
       "       [ 0.        ,  0.        ,  0.        , ...,  0.        ,\n",
       "         0.        ,  0.        ]])"
      ]
     },
     "execution_count": 16,
     "metadata": {},
     "output_type": "execute_result"
    }
   ],
   "source": [
    "final_matrix"
   ]
  },
  {
   "cell_type": "code",
   "execution_count": 17,
   "id": "a7faf18e",
   "metadata": {},
   "outputs": [
    {
     "data": {
      "text/plain": [
       "<matplotlib.image.AxesImage at 0x23827590f40>"
      ]
     },
     "execution_count": 17,
     "metadata": {},
     "output_type": "execute_result"
    },
    {
     "data": {
      "image/png": "[encoded data removed]",
      "text/plain": [
       "<Figure size 640x480 with 1 Axes>"
      ]
     },
     "metadata": {},
     "output_type": "display_data"
    }
   ],
   "source": [
    "plt.imshow(final_matrix, cmap='gray_r')"
   ]
  },
  {
   "cell_type": "code",
   "execution_count": 18,
   "id": "35726496",
   "metadata": {},
   "outputs": [
    {
     "data": {
      "text/plain": [
       "<matplotlib.colorbar.Colorbar at 0x23827508220>"
      ]
     },
     "execution_count": 18,
     "metadata": {},
     "output_type": "execute_result"
    },
    {
     "data": {
      "image/png": "[encoded data removed]",
      "text/plain": [
       "<Figure size 640x480 with 2 Axes>"
      ]
     },
     "metadata": {},
     "output_type": "display_data"
    }
   ],
   "source": [
    "#plot imshow and add lines\n",
    "plt.imshow(final_matrix, aspect=\"auto\", cmap=\"gray_r\")\n",
    "ax = plt.gca() # 获取当前的坐标轴\n",
    "ax.set_xticks([x-0.5 for x in range(1, final_matrix.shape[1])], minor=True) # 设置x轴的小刻度\n",
    "ax.set_yticks([y-0.5 for y in range(1, final_matrix.shape[0])], minor=True) # 设置y轴的小刻度\n",
    "plt.grid(which='minor', linestyle='-', linewidth=2)\n",
    "plt.colorbar()"
   ]
  },
  {
   "cell_type": "code",
   "execution_count": 19,
   "id": "75d773cd",
   "metadata": {},
   "outputs": [
    {
     "data": {
      "text/plain": [
       "<matplotlib.image.AxesImage at 0x2382611e620>"
      ]
     },
     "execution_count": 19,
     "metadata": {},
     "output_type": "execute_result"
    },
    {
     "data": {
      "image/png": "[encoded data removed]",
      "text/plain": [
       "<Figure size 640x480 with 1 Axes>"
      ]
     },
     "metadata": {},
     "output_type": "display_data"
    }
   ],
   "source": [
    "import numpy as np\n",
    "\n",
    "# 创建91x91的0矩阵\n",
    "matrix = np.zeros((91, 91))\n",
    "\n",
    "# 给出的数组\n",
    "arrays = [\n",
    "    np.array([14,15,17,28,29,30,31,33,47,48,49,51,52,76,80], dtype=np.uint16),\n",
    "    np.array([9,10,20,21,22,39,40,41,63,64,8,38,65,66], dtype=np.uint16),\n",
    "    np.array([6,7,16,17,32,33,34,53,54,55,82,84,56], dtype=np.uint16),\n",
    "    np.array([2,7,18,19,35,36,37,59,60,61,62,88,90], dtype=np.uint16),\n",
    "    np.array([1,4,11,12,13,23,24,25,26,44,45,46,69,70], dtype=np.uint16)\n",
    "]\n",
    "\n",
    "# 把数组的元素映射到矩阵上\n",
    "for arr in arrays:\n",
    "    for i in range(len(arr)):\n",
    "        for j in range(i + 1, len(arr)):\n",
    "            # 设置对应位置为1，这里我们使用 index-1 是因为 numpy 的索引是从0开始的\n",
    "            matrix[arr[i]-1, arr[j]-1] = 1\n",
    "            matrix[arr[j]-1, arr[i]-1] = 1  # 如果关系是双向的，我们需要同时设置两个位置\n",
    "\n",
    "plt.imshow(matrix, cmap='gray_r')\n",
    "\n"
   ]
  },
  {
   "cell_type": "code",
   "execution_count": 20,
   "id": "763389bf",
   "metadata": {},
   "outputs": [
    {
     "data": {
      "text/plain": [
       "(884,)"
      ]
     },
     "execution_count": 20,
     "metadata": {},
     "output_type": "execute_result"
    }
   ],
   "source": [
    "((np.nonzero(matrix))[0]).shape"
   ]
  },
  {
   "cell_type": "code",
   "execution_count": 21,
   "id": "65cba107",
   "metadata": {
    "scrolled": false
   },
   "outputs": [
    {
     "data": {
      "text/plain": [
       "<matplotlib.colorbar.Colorbar at 0x23825ff2590>"
      ]
     },
     "execution_count": 21,
     "metadata": {},
     "output_type": "execute_result"
    },
    {
     "data": {
      "image/png": "[encoded data removed]",
      "text/plain": [
       "<Figure size 640x480 with 2 Axes>"
      ]
     },
     "metadata": {},
     "output_type": "display_data"
    }
   ],
   "source": [
    "#plot imshow and add lines\n",
    "import matplotlib.pyplot as plt\n",
    "plt.imshow(matrix, aspect=\"auto\", cmap=\"gray_r\")\n",
    "ax = plt.gca() # 获取当前的坐标轴\n",
    "ax.set_xticks([x-0.5 for x in range(1, matrix.shape[1])], minor=True) # 设置x轴的小刻度\n",
    "ax.set_yticks([y-0.5 for y in range(1, matrix.shape[0])], minor=True) # 设置y轴的小刻度\n",
    "plt.grid(which='minor', linestyle='-', linewidth=2)\n",
    "plt.colorbar()"
   ]
  },
  {
   "cell_type": "code",
   "execution_count": 26,
   "id": "c318837a",
   "metadata": {},
   "outputs": [],
   "source": [
    "list1 = [14,15,17,28,29,30,31,33,47,48,49,51,52,76,80]\n",
    "list2 = [9,10,20,21,22,39,40,41,63,64,8,38,65,66]\n",
    "list3 = [6,7,16,17,32,33,34,53,54,55,82,84,56]\n",
    "list4 = [2,7,18,19,35,36,37,59,60,61,62,88,90]\n",
    "list5 = [1,4,11,12,13,23,24,25,26,44,45,46,69,70]\n",
    "\n",
    "# Combine all lists\n",
    "combined_list = list1 + list2 + list3 + list4 + list5\n",
    "\n",
    "# Convert to a set to remove duplicates\n",
    "unique_set = set(combined_list)\n",
    "\n",
    "# Get the count of unique elements\n",
    "count = len(unique_set)"
   ]
  },
  {
   "cell_type": "code",
   "execution_count": 27,
   "id": "ac889c7e",
   "metadata": {},
   "outputs": [
    {
     "data": {
      "text/plain": [
       "66"
      ]
     },
     "execution_count": 27,
     "metadata": {},
     "output_type": "execute_result"
    }
   ],
   "source": [
    "count"
   ]
  },
  {
   "cell_type": "code",
   "execution_count": 28,
   "id": "06b1c428",
   "metadata": {},
   "outputs": [
    {
     "name": "stdout",
     "output_type": "stream",
     "text": [
      "Number of unique elements:  14\n"
     ]
    }
   ],
   "source": [
    "list1 = [14,15,17]\n",
    "list2 = [9,10,20]\n",
    "list3 = [6,7,16]\n",
    "list4 = [2,7,18]\n",
    "list5 = [1,4,11]\n",
    "\n",
    "# Combine all lists\n",
    "combined_list = list1 + list2 + list3 + list4 + list5\n",
    "\n",
    "# Convert to a set to remove duplicates\n",
    "unique_set = set(combined_list)\n",
    "\n",
    "# Get the count of unique elements\n",
    "count = len(unique_set)\n",
    "\n",
    "print(\"Number of unique elements: \", count)"
   ]
  },
  {
   "cell_type": "code",
   "execution_count": 29,
   "id": "0b2b2850",
   "metadata": {},
   "outputs": [
    {
     "data": {
      "text/plain": [
       "{1, 2, 4, 6, 7, 9, 10, 11, 14, 15, 16, 17, 18, 20}"
      ]
     },
     "execution_count": 29,
     "metadata": {},
     "output_type": "execute_result"
    }
   ],
   "source": [
    "unique_set"
   ]
  },
  {
   "cell_type": "code",
   "execution_count": 37,
   "id": "a4f12ade",
   "metadata": {},
   "outputs": [
    {
     "ename": "TypeError",
     "evalue": "'list' object is not callable",
     "output_type": "error",
     "traceback": [
      "\u001b[1;31m---------------------------------------------------------------------------\u001b[0m",
      "\u001b[1;31mTypeError\u001b[0m                                 Traceback (most recent call last)",
      "Cell \u001b[1;32mIn[37], line 15\u001b[0m\n\u001b[0;32m     13\u001b[0m \u001b[38;5;66;03m# 对于大列表中的每一个列表，使用itertools.combinations找到所有的两两组合\u001b[39;00m\n\u001b[0;32m     14\u001b[0m \u001b[38;5;28;01mfor\u001b[39;00m i, lst \u001b[38;5;129;01min\u001b[39;00m \u001b[38;5;28menumerate\u001b[39m(lists):\n\u001b[1;32m---> 15\u001b[0m     unique_pairs \u001b[38;5;241m=\u001b[39m \u001b[38;5;28;43mlist\u001b[39;49m\u001b[43m(\u001b[49m\u001b[43mcombinations\u001b[49m\u001b[43m(\u001b[49m\u001b[43mlst\u001b[49m\u001b[43m,\u001b[49m\u001b[43m \u001b[49m\u001b[38;5;241;43m2\u001b[39;49m\u001b[43m)\u001b[49m\u001b[43m)\u001b[49m\n\u001b[0;32m     16\u001b[0m     \u001b[38;5;28mprint\u001b[39m(\u001b[38;5;124mf\u001b[39m\u001b[38;5;124m'\u001b[39m\u001b[38;5;124m在 list\u001b[39m\u001b[38;5;132;01m{\u001b[39;00mi\u001b[38;5;241m+\u001b[39m\u001b[38;5;241m1\u001b[39m\u001b[38;5;132;01m}\u001b[39;00m\u001b[38;5;124m 中的唯一组合是: \u001b[39m\u001b[38;5;132;01m{\u001b[39;00munique_pairs\u001b[38;5;132;01m}\u001b[39;00m\u001b[38;5;124m'\u001b[39m)\n",
      "\u001b[1;31mTypeError\u001b[0m: 'list' object is not callable"
     ]
    }
   ],
   "source": [
    "from itertools import combinations\n",
    "\n",
    "# 定义你的列表\n",
    "list1 = [14,15,17]\n",
    "list2 = [9,10,20]\n",
    "list3 = [6,7,16]\n",
    "list4 = [2,7,18]\n",
    "list5 = [1,4,11]\n",
    "\n",
    "# 将所有列表放到一个大列表里\n",
    "lists = [list1, list2, list3, list4, list5]\n",
    "\n",
    "# 对于大列表中的每一个列表，使用itertools.combinations找到所有的两两组合\n",
    "for i, lst in enumerate(lists):\n",
    "    unique_pairs = list(combinations(lst, 2))\n",
    "    print(f'在 list{i+1} 中的唯一组合是: {unique_pairs}')"
   ]
  },
  {
   "cell_type": "code",
   "execution_count": 38,
   "id": "628478db",
   "metadata": {},
   "outputs": [
    {
     "name": "stdout",
     "output_type": "stream",
     "text": [
      "2342343\n"
     ]
    }
   ],
   "source": [
    "print(\"2342343\")"
   ]
  },
  {
   "cell_type": "code",
   "execution_count": null,
   "id": "d9b586bb",
   "metadata": {},
   "outputs": [],
   "source": []
  }
 ],
 "metadata": {
  "kernelspec": {
   "display_name": "coniii",
   "language": "python",
   "name": "coniii"
  },
  "language_info": {
   "codemirror_mode": {
    "name": "ipython",
    "version": 3
   },
   "file_extension": ".py",
   "mimetype": "text/x-python",
   "name": "python",
   "nbconvert_exporter": "python",
   "pygments_lexer": "ipython3",
   "version": "3.10.12"
  }
 },
 "nbformat": 4,
 "nbformat_minor": 5
}
