{
 "cells": [
  {
   "cell_type": "markdown",
   "id": "a1e64b27",
   "metadata": {},
   "source": [
    "2 assemblies. Neuron Size = 25, 50, 75"
   ]
  },
  {
   "cell_type": "markdown",
   "id": "d9afffa1",
   "metadata": {},
   "source": [
    "Step 1, Set threshold = 0.1"
   ]
  },
  {
   "cell_type": "code",
   "execution_count": 10,
   "id": "71e51bfe",
   "metadata": {},
   "outputs": [],
   "source": [
    "import warnings\n",
    "# 仅在这个context里忽略警告\n",
    "with warnings.catch_warnings():\n",
    "    warnings.filterwarnings(\"ignore\")\n",
    "    from coniii import *\n",
    "import numpy as np\n",
    "from tqdm.auto import tqdm\n",
    "from scipy.spatial.distance import cdist\n",
    "from scipy.stats import multivariate_normal\n",
    "import matplotlib.pyplot as plt\n",
    "import random\n",
    "import generate_assembly #In the same dir\n",
    "import generate_SpikeCount #In the same dir\n",
    "from scipy.stats import poisson\n",
    "import time\n",
    "import math\n",
    "\n",
    "warnings.filterwarnings(\"ignore\")\n",
    "\n",
    "\n",
    "\n",
    "# Define Parameters\n",
    "T = 3600 # time of simul“ation\n",
    "N = 25  # number of neurons\n",
    "dT = 0.5 # time step\n",
    "params_assembly_density = 3 # size of neurons in each assembly\n",
    "params_assembly_num =2 # number of assemblies\n",
    "params_point_into_neuron_distance = 0.5 \n",
    "fire_rate_background = np.random.uniform(1, 6, N)\n",
    "# Length of an active event as a number of timesteps\n",
    "eventDur = np.random.randint(1, 10)\n",
    "# Probability with which a unit is particularly active in a single timestep\n",
    "eventProb = np.random.uniform(0.01, 0.05)\n",
    "# Firing rate multiplier at active events\n",
    "eventMult = np.random.uniform(6, 10)  # random number between 1 and 5\n",
    "showPlot = False"
   ]
  },
  {
   "cell_type": "code",
   "execution_count": 12,
   "id": "a720fab1",
   "metadata": {},
   "outputs": [
    {
     "name": "stdout",
     "output_type": "stream",
     "text": [
      "[[1, 9, 3], [9, 24]]\n"
     ]
    }
   ],
   "source": [
    "\n",
    "# Here's some preparatory code, we don't count its execution time\n",
    "assemblies = generate_assembly.generate_assembly_solve(N, params_assembly_num, params_assembly_density)\n",
    "# Output 0, 1 type spikes\n",
    "spikeCount = generate_SpikeCount.generateSpikeCountSolve(N, T, dT, assemblies, (1, 6), eventDur, eventProb, eventMult, showPlot)\n",
    "# Transform to -1, 1 distribution\n",
    "spikeCount[spikeCount == 0] = -1\n",
    "\n",
    "print(assemblies)"
   ]
  },
  {
   "cell_type": "code",
   "execution_count": null,
   "id": "2af32b93",
   "metadata": {},
   "outputs": [],
   "source": []
  },
  {
   "cell_type": "code",
   "execution_count": null,
   "id": "42da0a82",
   "metadata": {},
   "outputs": [],
   "source": []
  }
 ],
 "metadata": {
  "kernelspec": {
   "display_name": "Python 3 (ipykernel)",
   "language": "python",
   "name": "python3"
  },
  "language_info": {
   "codemirror_mode": {
    "name": "ipython",
    "version": 3
   },
   "file_extension": ".py",
   "mimetype": "text/x-python",
   "name": "python",
   "nbconvert_exporter": "python",
   "pygments_lexer": "ipython3",
   "version": "3.10.12"
  }
 },
 "nbformat": 4,
 "nbformat_minor": 5
}
