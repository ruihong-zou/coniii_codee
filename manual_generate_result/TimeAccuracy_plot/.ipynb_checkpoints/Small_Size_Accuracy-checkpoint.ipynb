{
 "cells": [
  {
   "cell_type": "code",
   "execution_count": 10,
   "id": "3ac22742",
   "metadata": {},
   "outputs": [],
   "source": [
    "import warnings\n",
    "# 仅在这个context里忽略警告\n",
    "with warnings.catch_warnings():\n",
    "    warnings.filterwarnings(\"ignore\")\n",
    "    from coniii import *\n",
    "import numpy as np\n",
    "from tqdm.auto import tqdm\n",
    "from scipy.spatial.distance import cdist\n",
    "from scipy.stats import multivariate_normal\n",
    "import matplotlib.pyplot as plt\n",
    "import random\n",
    "import generate_assembly #In the same dir\n",
    "import generate_SpikeCount #In the same dir\n",
    "from scipy.stats import poisson\n",
    "import time\n",
    "\n",
    "warnings.filterwarnings(\"ignore\")\n",
    "\n",
    "\n",
    "\n",
    "# Define Parameters\n",
    "T = 3600 # time of simul“ation\n",
    "N = 25  # number of neurons\n",
    "dT = 0.5 # time step\n",
    "params_assembly_density = 3 # size of neurons in each assembly\n",
    "params_assembly_num =2 # number of assemblies\n",
    "params_point_into_neuron_distance = 0.5 \n",
    "fire_rate_background = np.random.uniform(1, 6, N)\n",
    "# Length of an active event as a number of timesteps\n",
    "eventDur = np.random.randint(1, 10)\n",
    "# Probability with which a unit is particularly active in a single timestep\n",
    "eventProb = np.random.uniform(0.01, 0.05)\n",
    "# Firing rate multiplier at active events\n",
    "eventMult = np.random.uniform(6, 10)  # random number between 1 and 5\n",
    "showPlot = False"
   ]
  },
  {
   "cell_type": "code",
   "execution_count": null,
   "id": "9d5c4361",
   "metadata": {},
   "outputs": [],
   "source": []
  },
  {
   "cell_type": "code",
   "execution_count": 11,
   "id": "d22fdcb3",
   "metadata": {},
   "outputs": [
    {
     "name": "stdout",
     "output_type": "stream",
     "text": [
      "[[22, 17, 24], [17, 23]]\n"
     ]
    }
   ],
   "source": [
    "# Here's some preparatory code, we don't count its execution time\n",
    "assemblies = generate_assembly.generate_assembly_solve(N, params_assembly_num, params_assembly_density)\n",
    "# Output 0, 1 type spikes\n",
    "spikeCount = generate_SpikeCount.generateSpikeCountSolve(N, T, dT, assemblies, (1, 6), eventDur, eventProb, eventMult, showPlot)\n",
    "# Transform to -1, 1 distribution\n",
    "spikeCount[spikeCount == 0] = -1\n",
    "\n",
    "print(assemblies)"
   ]
  },
  {
   "cell_type": "code",
   "execution_count": 13,
   "id": "e359236a",
   "metadata": {
    "scrolled": true
   },
   "outputs": [],
   "source": [
    "# Define a function to encapsulate the code you want to time\n",
    "def code_to_time(spikeCount,threshold):\n",
    "    solver = ClusterExpansion(spikeCount)\n",
    "    multipliers, ent, clusters, deltaSdict, deltaJdict= solver.solve(threshold, full_output=True)\n"
   ]
  },
  {
   "cell_type": "code",
   "execution_count": 16,
   "id": "bf03875c",
   "metadata": {},
   "outputs": [
    {
     "name": "stdout",
     "output_type": "stream",
     "text": [
      "\n",
      "Testing with threshold = 0.1\n",
      "------------------------------\n"
     ]
    },
    {
     "data": {
      "application/vnd.jupyter.widget-view+json": {
       "model_id": "53444502c78642069de3a9f00df9c2c4",
       "version_major": 2,
       "version_minor": 0
      },
      "text/plain": [
       "  0%|          | 0/30 [00:00<?, ?it/s]"
      ]
     },
     "metadata": {},
     "output_type": "display_data"
    },
    {
     "name": "stdout",
     "output_type": "stream",
     "text": [
      "Average Time after 10 iterations: 2.5475829601287843 seconds\n",
      "Average Time after 20 iterations: 2.546120309829712 seconds\n",
      "Average Time after 30 iterations: 2.5508734941482545 seconds\n",
      "\n",
      "Testing with threshold = 0.01\n",
      "------------------------------\n"
     ]
    },
    {
     "data": {
      "application/vnd.jupyter.widget-view+json": {
       "model_id": "4cbce2e2fa0e404980ba918873a267fc",
       "version_major": 2,
       "version_minor": 0
      },
      "text/plain": [
       "  0%|          | 0/30 [00:00<?, ?it/s]"
      ]
     },
     "metadata": {},
     "output_type": "display_data"
    },
    {
     "name": "stdout",
     "output_type": "stream",
     "text": [
      "Average Time after 10 iterations: 2.649499940872192 seconds\n",
      "Average Time after 20 iterations: 2.646186113357544 seconds\n",
      "Average Time after 30 iterations: 2.661343797047933 seconds\n",
      "\n",
      "Testing with threshold = 0.001\n",
      "------------------------------\n"
     ]
    },
    {
     "data": {
      "application/vnd.jupyter.widget-view+json": {
       "model_id": "7523f96afc204b39a7d66d2a5aae248d",
       "version_major": 2,
       "version_minor": 0
      },
      "text/plain": [
       "  0%|          | 0/30 [00:00<?, ?it/s]"
      ]
     },
     "metadata": {},
     "output_type": "display_data"
    },
    {
     "name": "stdout",
     "output_type": "stream",
     "text": [
      "Average Time after 10 iterations: 2.7566118478775024 seconds\n",
      "Average Time after 20 iterations: 2.729065489768982 seconds\n",
      "Average Time after 30 iterations: 2.7504944642384848 seconds\n"
     ]
    }
   ],
   "source": [
    "# Initialize the total time to zero\n",
    "total_time = 0\n",
    "thresholds = [1e-1, 1e-2, 1e-3]\n",
    "\n",
    "for threshold in thresholds:\n",
    "    # Initialize the total time to zero\n",
    "    total_time = 0\n",
    "    \n",
    "    # Print the threshold being tested\n",
    "    print(f\"\\nTesting with threshold = {threshold}\\n{'-' * 30}\")\n",
    "    \n",
    "    # Run the code multiple times\n",
    "    for i in tqdm(range(1, 31)):  # Runs the loop 30 times\n",
    "        start_time = time.time()\n",
    "        \n",
    "        # Run the code to time\n",
    "        code_to_time(spikeCount, threshold)\n",
    "        \n",
    "        # Calculate and totalise execution time\n",
    "        elapsed_time = time.time() - start_time\n",
    "        total_time += elapsed_time\n",
    "        \n",
    "        # Print the average time after 10, 20, and 30 iterations\n",
    "        if i in {10, 20, 30}:\n",
    "            print(f\"Average Time after {i} iterations: {total_time / i} seconds\")"
   ]
  },
  {
   "cell_type": "code",
   "execution_count": 5,
   "id": "45d75ea7",
   "metadata": {},
   "outputs": [],
   "source": []
  },
  {
   "cell_type": "code",
   "execution_count": 5,
   "id": "9a3c3921",
   "metadata": {},
   "outputs": [],
   "source": []
  },
  {
   "cell_type": "code",
   "execution_count": 5,
   "id": "13c8a1d9",
   "metadata": {},
   "outputs": [],
   "source": []
  },
  {
   "cell_type": "code",
   "execution_count": 5,
   "id": "c5673537",
   "metadata": {},
   "outputs": [],
   "source": []
  },
  {
   "cell_type": "code",
   "execution_count": 5,
   "id": "884f683d",
   "metadata": {},
   "outputs": [],
   "source": []
  },
  {
   "cell_type": "code",
   "execution_count": 23,
   "id": "63e7f00e",
   "metadata": {},
   "outputs": [
    {
     "name": "stdout",
     "output_type": "stream",
     "text": [
      "adaptiveClusterExpansion: Clusters of size 2\n",
      "adaptiveClusterExpansion: Clusters of size 3\n",
      "adaptiveClusterExpansion: Clusters of size 4\n",
      "adaptiveClusterExpansion: Clusters of size 5\n",
      "adaptiveClusterExpansion: Clusters of size 2\n",
      "adaptiveClusterExpansion: Clusters of size 3\n",
      "adaptiveClusterExpansion: Clusters of size 4\n",
      "adaptiveClusterExpansion: Clusters of size 5\n",
      "adaptiveClusterExpansion: Clusters of size 2\n",
      "adaptiveClusterExpansion: Clusters of size 3\n",
      "adaptiveClusterExpansion: Clusters of size 4\n",
      "adaptiveClusterExpansion: Clusters of size 5\n",
      "adaptiveClusterExpansion: Clusters of size 2\n",
      "adaptiveClusterExpansion: Clusters of size 3\n",
      "adaptiveClusterExpansion: Clusters of size 4\n",
      "adaptiveClusterExpansion: Clusters of size 5\n",
      "adaptiveClusterExpansion: Clusters of size 2\n",
      "adaptiveClusterExpansion: Clusters of size 3\n",
      "adaptiveClusterExpansion: Clusters of size 4\n",
      "adaptiveClusterExpansion: Clusters of size 5\n",
      "adaptiveClusterExpansion: Clusters of size 2\n",
      "adaptiveClusterExpansion: Clusters of size 3\n",
      "adaptiveClusterExpansion: Clusters of size 4\n",
      "adaptiveClusterExpansion: Clusters of size 5\n",
      "adaptiveClusterExpansion: Clusters of size 2\n",
      "adaptiveClusterExpansion: Clusters of size 3\n",
      "adaptiveClusterExpansion: Clusters of size 4\n",
      "adaptiveClusterExpansion: Clusters of size 5\n",
      "adaptiveClusterExpansion: Clusters of size 2\n",
      "adaptiveClusterExpansion: Clusters of size 3\n",
      "adaptiveClusterExpansion: Clusters of size 4\n",
      "adaptiveClusterExpansion: Clusters of size 5\n",
      "adaptiveClusterExpansion: Clusters of size 2\n",
      "adaptiveClusterExpansion: Clusters of size 3\n",
      "adaptiveClusterExpansion: Clusters of size 4\n",
      "adaptiveClusterExpansion: Clusters of size 5\n",
      "adaptiveClusterExpansion: Clusters of size 2\n",
      "adaptiveClusterExpansion: Clusters of size 3\n",
      "adaptiveClusterExpansion: Clusters of size 4\n",
      "adaptiveClusterExpansion: Clusters of size 5\n",
      "Average execution time:  2.8528429746627806\n"
     ]
    }
   ],
   "source": [
    "import time\n",
    "\n",
    "# Initialize time and number of runnnings\n",
    "total_time = 0\n",
    "num_runs = 10\n",
    "\n",
    "for _ in range(num_runs):\n",
    "\n",
    "    # Start Timing\n",
    "    start_time = time.time()\n",
    "\n",
    "    # Here's the code to calculate the execution time\n",
    "    solver = ClusterExpansion(spikeCount)\n",
    "    multipliers, ent, clusters, deltaSdict, deltaJdict= solver.solve(threshold=1e-3, full_output=True)\n",
    "    \n",
    "    # Calculate and totalise execution time\n",
    "    total_time += time.time() - start_time\n",
    "    \n",
    "print(\"Average execution time: \", total_time / num_runs)"
   ]
  },
  {
   "cell_type": "code",
   "execution_count": null,
   "id": "d5ef6335",
   "metadata": {},
   "outputs": [],
   "source": [
    "import time\n",
    "\n",
    "# Initialize time and number of runnnings\n",
    "total_time = 0\n",
    "num_runs = 10\n",
    "\n",
    "for _ in range(num_runs):\n",
    "    # Here's some preparatory code, we don't count its execution time\n",
    "    assemblies = generate_assembly.generate_assembly_solve(N, params_assembly_num, params_assembly_density)\n",
    "    # Output 0, 1 type spikes\n",
    "    spikeCount = generate_SpikeCount.generateSpikeCountSolve(N, T, dT, assemblies, (1, 6), eventDur, eventProb, eventMult, showPlot)\n",
    "    # Transform to -1, 1 distribution\n",
    "    spikeCount[spikeCount == 0] = -1\n",
    "    \n",
    "    # Start Timing\n",
    "    start_time = time.time()\n",
    "\n",
    "    # Here's the code to calculate the execution time\n",
    "    solver = ClusterExpansion(spikeCount)\n",
    "    multipliers, ent, clusters, deltaSdict, deltaJdict= solver.solve(threshold=1e-2, full_output=True)\n",
    "    \n",
    "    # Calculate and totalise execution time\n",
    "    total_time += time.time() - start_time\n",
    "    \n",
    "print(\"Average execution time: \", total_time / num_runs)"
   ]
  },
  {
   "cell_type": "code",
   "execution_count": null,
   "id": "f28f5472",
   "metadata": {},
   "outputs": [],
   "source": [
    "##### import time\n",
    "\n",
    "# Initialize time and number of runnnings\n",
    "total_time = 0\n",
    "num_runs = 10\n",
    "\n",
    "for _ in range(num_runs):\n",
    "    # Here's some preparatory code, we don't count its execution time\n",
    "    assemblies = generate_assembly.generate_assembly_solve(N, params_assembly_num, params_assembly_density)\n",
    "    # Output 0, 1 type spikes\n",
    "    spikeCount = generate_SpikeCount.generateSpikeCountSolve(N, T, dT, assemblies, (1, 6), eventDur, eventProb, eventMult, showPlot)\n",
    "    # Transform to -1, 1 distribution\n",
    "    spikeCount[spikeCount == 0] = -1\n",
    "    \n",
    "    # Start Timing\n",
    "    start_time = time.time()\n",
    "\n",
    "    # Here's the code to calculate the execution time\n",
    "    solver = ClusterExpansion(spikeCount)\n",
    "    multipliers, ent, clusters, deltaSdict, deltaJdict= solver.solve(threshold=1e-1, full_output=True)\n",
    "    \n",
    "    # Calculate and totalise execution time\n",
    "    total_time += time.time() - start_time\n",
    "    \n",
    "print(\"Average execution time: \", total_time / num_runs)"
   ]
  },
  {
   "cell_type": "code",
   "execution_count": null,
   "id": "65a71f1e",
   "metadata": {},
   "outputs": [],
   "source": [
    "import time\n",
    "\n",
    "# Initialize time and number of runnnings\n",
    "total_time = 0\n",
    "num_runs = 50\n",
    "\n",
    "for _ in range(num_runs):\n",
    "    # Here's some preparatory code, we don't count its execution time\n",
    "    assemblies = generate_assembly.generate_assembly_solve(N, params_assembly_num, params_assembly_density)\n",
    "    # Output 0, 1 type spikes\n",
    "    spikeCount = generate_SpikeCount.generateSpikeCountSolve(N, T, dT, assemblies, (1, 6), eventDur, eventProb, eventMult, showPlot)\n",
    "    # Transform to -1, 1 distribution\n",
    "    spikeCount[spikeCount == 0] = -1\n",
    "    \n",
    "    # Start Timing\n",
    "    start_time = time.time()\n",
    "\n",
    "    # Here's the code to calculate the execution time\n",
    "    solver = ClusterExpansion(spikeCount)\n",
    "    multipliers, ent, clusters, deltaSdict, deltaJdict= solver.solve(threshold=1e-3, full_output=True)\n",
    "    \n",
    "    # Calculate and totalise execution time\n",
    "    total_time += time.time() - start_time\n",
    "    \n",
    "print(\"Average execution time: \", total_time / num_runs)"
   ]
  },
  {
   "cell_type": "code",
   "execution_count": null,
   "id": "2bc69abe",
   "metadata": {},
   "outputs": [],
   "source": [
    "import time\n",
    "\n",
    "# Initialize time and number of runnnings\n",
    "total_time = 0\n",
    "num_runs = 50\n",
    "\n",
    "for _ in range(num_runs):\n",
    "    # Here's some preparatory code, we don't count its execution time\n",
    "    assemblies = generate_assembly.generate_assembly_solve(N, params_assembly_num, params_assembly_density)\n",
    "    # Output 0, 1 type spikes\n",
    "    spikeCount = generate_SpikeCount.generateSpikeCountSolve(N, T, dT, assemblies, (1, 6), eventDur, eventProb, eventMult, showPlot)\n",
    "    # Transform to -1, 1 distribution\n",
    "    spikeCount[spikeCount == 0] = -1\n",
    "    \n",
    "    # Start Timing\n",
    "    start_time = time.time()\n",
    "\n",
    "    # Here's the code to calculate the execution time\n",
    "    solver = ClusterExpansion(spikeCount)\n",
    "    multipliers, ent, clusters, deltaSdict, deltaJdict= solver.solve(threshold=1e-2, full_output=True)\n",
    "    \n",
    "    # Calculate and totalise execution time\n",
    "    total_time += time.time() - start_time\n",
    "    \n",
    "print(\"Average execution time: \", total_time / num_runs)"
   ]
  },
  {
   "cell_type": "code",
   "execution_count": null,
   "id": "b8b2a6fe",
   "metadata": {},
   "outputs": [],
   "source": [
    "import time\n",
    "\n",
    "# Initialize time and number of runnnings\n",
    "total_time = 0\n",
    "num_runs = 100\n",
    "\n",
    "for _ in range(num_runs):\n",
    "    # Here's some preparatory code, we don't count its execution time\n",
    "    assemblies = generate_assembly.generate_assembly_solve(N, params_assembly_num, params_assembly_density)\n",
    "    # Output 0, 1 type spikes\n",
    "    spikeCount = generate_SpikeCount.generateSpikeCountSolve(N, T, dT, assemblies, (1, 6), eventDur, eventProb, eventMult, showPlot)\n",
    "    # Transform to -1, 1 distribution\n",
    "    spikeCount[spikeCount == 0] = -1\n",
    "    \n",
    "    # Start Timing\n",
    "    start_time = time.time()\n",
    "\n",
    "    # Here's the code to calculate the execution time\n",
    "    solver = ClusterExpansion(spikeCount)\n",
    "    multipliers, ent, clusters, deltaSdict, deltaJdict= solver.solve(threshold=1e-3, full_output=True)\n",
    "    \n",
    "    # Calculate and totalise execution time\n",
    "    total_time += time.time() - start_time\n",
    "    \n",
    "print(\"Average execution time: \", total_time / num_runs)"
   ]
  },
  {
   "cell_type": "code",
   "execution_count": null,
   "id": "cc555837",
   "metadata": {},
   "outputs": [],
   "source": [
    "import time\n",
    "\n",
    "# Initialize time and number of runnnings\n",
    "total_time = 0\n",
    "num_runs = 100\n",
    "\n",
    "for _ in range(num_runs):\n",
    "    # Here's some preparatory code, we don't count its execution time\n",
    "    assemblies = generate_assembly.generate_assembly_solve(N, params_assembly_num, params_assembly_density)\n",
    "    # Output 0, 1 type spikes\n",
    "    spikeCount = generate_SpikeCount.generateSpikeCountSolve(N, T, dT, assemblies, (1, 6), eventDur, eventProb, eventMult, showPlot)\n",
    "    # Transform to -1, 1 distribution\n",
    "    spikeCount[spikeCount == 0] = -1\n",
    "    \n",
    "    # Start Timing\n",
    "    start_time = time.time()\n",
    "\n",
    "    # Here's the code to calculate the execution time\n",
    "    solver = ClusterExpansion(spikeCount)\n",
    "    multipliers, ent, clusters, deltaSdict, deltaJdict= solver.solve(threshold=1e-2, full_output=True)\n",
    "    \n",
    "    # Calculate and totalise execution time\n",
    "    total_time += time.time() - start_time\n",
    "    \n",
    "print(\"Average execution time: \", total_time / num_runs)"
   ]
  },
  {
   "cell_type": "code",
   "execution_count": null,
   "id": "5edc972b",
   "metadata": {},
   "outputs": [],
   "source": []
  },
  {
   "cell_type": "code",
   "execution_count": null,
   "id": "ee679dfe",
   "metadata": {},
   "outputs": [],
   "source": []
  }
 ],
 "metadata": {
  "kernelspec": {
   "display_name": "coniii",
   "language": "python",
   "name": "coniii"
  },
  "language_info": {
   "codemirror_mode": {
    "name": "ipython",
    "version": 3
   },
   "file_extension": ".py",
   "mimetype": "text/x-python",
   "name": "python",
   "nbconvert_exporter": "python",
   "pygments_lexer": "ipython3",
   "version": "3.10.12"
  }
 },
 "nbformat": 4,
 "nbformat_minor": 5
}
