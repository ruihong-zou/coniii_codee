{
 "cells": [
  {
   "cell_type": "code",
   "execution_count": 2,
   "id": "79ba401d",
   "metadata": {},
   "outputs": [
    {
     "name": "stderr",
     "output_type": "stream",
     "text": [
      "C:\\Users\\Riickyyy\\anaconda3\\envs\\coniii\\lib\\site-packages\\coniii\\samplers.py:381: NumbaDeprecationWarning: \u001b[1mThe 'nopython' keyword argument was not supplied to the 'numba.jit' decorator. The implicit default value for this argument is currently False, but it will be changed to True in Numba 0.59.0. See https://numba.readthedocs.io/en/stable/reference/deprecation.html#deprecation-of-object-mode-fall-back-behaviour-when-using-jit for details.\u001b[0m\n",
      "  def iterate_neighbors(n,ix,expdJ,r):\n",
      "C:\\Users\\Riickyyy\\anaconda3\\envs\\coniii\\lib\\site-packages\\coniii\\samplers.py:2342: NumbaDeprecationWarning: \u001b[1mThe 'nopython' keyword argument was not supplied to the 'numba.jit' decorator. The implicit default value for this argument is currently False, but it will be changed to True in Numba 0.59.0. See https://numba.readthedocs.io/en/stable/reference/deprecation.html#deprecation-of-object-mode-fall-back-behaviour-when-using-jit for details.\u001b[0m\n",
      "  def cross(vec1, vec2):\n"
     ]
    }
   ],
   "source": [
    "from coniii import *"
   ]
  },
  {
   "cell_type": "code",
   "execution_count": 3,
   "id": "8754a914",
   "metadata": {
    "scrolled": true
   },
   "outputs": [],
   "source": [
    "# Total Timeline T = 100\n",
    "T = 500\n",
    "# Number of neuros\n",
    "N = 8\n",
    "\n",
    "#Spike Apear Probability in Timeline \n",
    "Spikes_Probability = 0.1\n",
    "#Number of Random Firing Timeline Points\n",
    "N_tp = int(T * Spikes_Probability)\n",
    "# Number of classify group\n",
    "N_groups = 4\n",
    "\n",
    "# Create Random Neuros Spikes Timeline (N_groups tpyes overall)\n",
    "Random_NT = np.random.permutation(T)\n",
    "\n",
    "# N_tp(10) random time points of firing for group i(overall is 4)\n",
    "# Each Group Size is  (N_tp,1) contains the Random Firing Timeline Points\n",
    "groups = []\n",
    "for i in range(N_groups):\n",
    "    start_index = i * N_tp\n",
    "    end_index = (i + 1) * N_tp\n",
    "    group = Random_NT[start_index:end_index]\n",
    "    groups.append(group)"
   ]
  },
  {
   "cell_type": "code",
   "execution_count": 4,
   "id": "18aeba5f",
   "metadata": {},
   "outputs": [],
   "source": [
    "# Initializing Samples() to 0(8*10) and datatype\n",
    "firing_rate = 0.8\n",
    "samples = np.zeros((N,T), dtype = np.float32)\n",
    "\n",
    "# Generate samples for each group\n",
    "num_samples = int(N/N_groups)\n",
    "\n",
    "for i, group in enumerate(groups):\n",
    "    start_sample = int(num_samples * i)\n",
    "    end_sample = int(num_samples * (i+1))\n",
    "    samples[start_sample:end_sample, group] = (np.random.rand(num_samples, len(group)) < firing_rate)\n",
    "    \n",
    "# # Pick the Random Firing Timeline Points(set 2 * 10 ) in the Whole Samples\n",
    "# # Use Bool to Control the T/F (1/0)\n",
    "# samples[: int(N/N_groups), groups[0]] = (np.random.rand(int(N/N_groups),len(groups[0])) < firing_rate)\n",
    "# samples[: int(N/N_groups), groups[1]] = (np.random.rand(int(N/N_groups),len(groups[1])) < firing_rate)\n",
    "# samples[: int(N/N_groups), groups[2]] = (np.random.rand(int(N/N_groups),len(groups[2])) < firing_rate)\n",
    "# samples[: int(N/N_groups), groups[3]] = (np.random.rand(int(N/N_groups),len(groups[3])) < firing_rate)"
   ]
  },
  {
   "cell_type": "code",
   "execution_count": 5,
   "id": "73387024",
   "metadata": {},
   "outputs": [
    {
     "data": {
      "text/plain": [
       "<matplotlib.image.AxesImage at 0x2004f8025f0>"
      ]
     },
     "execution_count": 5,
     "metadata": {},
     "output_type": "execute_result"
    },
    {
     "data": {
      "image/png": "[encoded data removed]",
      "text/plain": [
       "<Figure size 640x480 with 1 Axes>"
      ]
     },
     "metadata": {},
     "output_type": "display_data"
    }
   ],
   "source": [
    "import matplotlib.pyplot as plt\n",
    "plt.figure(figsize=(8, 6), dpi=80)\n",
    "plt.imshow(samples, aspect=\"auto\", cmap=\"gray_r\", interpolation=\"none\")"
   ]
  },
  {
   "cell_type": "code",
   "execution_count": 6,
   "id": "eb01b6f9",
   "metadata": {},
   "outputs": [],
   "source": [
    "from coniii.utils import define_ising_helper_functions\n",
    "from coniii import ClusterExpansion, pair_corr\n",
    "\n",
    "import matplotlib.pyplot as plt\n",
    "import numpy as np"
   ]
  },
  {
   "cell_type": "code",
   "execution_count": 7,
   "id": "760e9c5b",
   "metadata": {},
   "outputs": [],
   "source": [
    "calc_e, calc_observables, mchApproximation = define_ising_helper_functions()"
   ]
  },
  {
   "cell_type": "code",
   "execution_count": 8,
   "id": "b0b15c88",
   "metadata": {},
   "outputs": [
    {
     "data": {
      "text/plain": [
       "(8, 500)"
      ]
     },
     "execution_count": 8,
     "metadata": {},
     "output_type": "execute_result"
    }
   ],
   "source": [
    "samples.shape"
   ]
  },
  {
   "cell_type": "code",
   "execution_count": 9,
   "id": "32c1440a",
   "metadata": {},
   "outputs": [
    {
     "name": "stderr",
     "output_type": "stream",
     "text": [
      "C:\\Users\\Riickyyy\\anaconda3\\envs\\coniii\\lib\\site-packages\\coniii\\solvers.py:96: UserWarning: Assuming that calc_observables should be for Ising model.\n",
      "  if iprint: warn(\"Assuming that calc_observables should be for Ising model.\")\n",
      "C:\\Users\\Riickyyy\\anaconda3\\envs\\coniii\\lib\\site-packages\\coniii\\samplers.py:1187: UserWarning: Boost C++ implementation not available. Defaulting to slower sampling methods.\n",
      "  warn(\"Boost C++ implementation not available. Defaulting to slower sampling methods.\")\n"
     ]
    },
    {
     "name": "stdout",
     "output_type": "stream",
     "text": [
      "adaptiveClusterExpansion: Clusters of size 2\n",
      "adaptiveClusterExpansion: Clusters of size 3\n"
     ]
    }
   ],
   "source": [
    "# Declare and call solver.\n",
    "samples[samples == 0] = -1\n",
    "solver = ClusterExpansion(samples.T)\n",
    "\n",
    "multipliers, ent, clusters, deltaSdict, deltaJdict= solver.solve(threshold=1e-1, full_output=True)"
   ]
  },
  {
   "cell_type": "code",
   "execution_count": 10,
   "id": "683061dc",
   "metadata": {},
   "outputs": [
    {
     "data": {
      "text/plain": [
       "array([-0.7649114 , -0.68138436, -0.64572176, -0.64572176, -0.90884769,\n",
       "       -0.5622741 , -0.70335268, -0.55951164,  1.09187463, -0.        ,\n",
       "       -0.        , -0.        , -0.        , -0.        , -0.        ,\n",
       "       -0.        , -0.        , -0.        , -0.        , -0.        ,\n",
       "       -0.        ,  1.36918126, -0.        , -0.        , -0.        ,\n",
       "       -0.        , -0.        , -0.        , -0.        , -0.        ,\n",
       "        1.17834594, -0.        , -0.        , -0.        , -0.        ,\n",
       "        1.45539138])"
      ]
     },
     "execution_count": 10,
     "metadata": {},
     "output_type": "execute_result"
    }
   ],
   "source": [
    "multipliers"
   ]
  },
  {
   "cell_type": "code",
   "execution_count": 12,
   "id": "c3f689ef",
   "metadata": {},
   "outputs": [],
   "source": [
    "J = multipliers[N:]\n",
    "\n",
    "# 创建一个 N*N 的零矩阵\n",
    "matrix = np.zeros((N, N))\n",
    "\n",
    "# # 使用数组的前N个元素填充对角线\n",
    "# matrix[np.diag_indices(FISH_N)] = multipliers[:FISH_N]\n",
    "\n",
    "# 使用数组的后N+2(N*N-1)个元素填充上半矩阵\n",
    "index = N\n",
    "for i in range(N):\n",
    "    for j in range(i+1, N):\n",
    "        matrix[i, j] = multipliers[index]\n",
    "        index += 1\n",
    "# 获取上半矩阵（包含对角线）\n",
    "upper_matrix = np.triu(matrix)\n",
    "\n",
    "# 转置上半矩阵并将其添加到下半部分\n",
    "lower_matrix = np.transpose(upper_matrix)\n",
    "lower_matrix = np.tril(lower_matrix, -1)\n",
    "\n",
    "# 将上半矩阵和转置的下半矩阵相加得到完整的矩阵\n",
    "final_matrix = upper_matrix + lower_matrix"
   ]
  },
  {
   "cell_type": "code",
   "execution_count": 15,
   "id": "35726496",
   "metadata": {},
   "outputs": [
    {
     "data": {
      "text/plain": [
       "<matplotlib.colorbar.Colorbar at 0x200558530a0>"
      ]
     },
     "execution_count": 15,
     "metadata": {},
     "output_type": "execute_result"
    },
    {
     "data": {
      "image/png": "[encoded data removed]",
      "text/plain": [
       "<Figure size 640x480 with 2 Axes>"
      ]
     },
     "metadata": {},
     "output_type": "display_data"
    }
   ],
   "source": [
    "#plot imshow and add lines\n",
    "plt.imshow(final_matrix, aspect=\"auto\", cmap=\"gray_r\")\n",
    "ax = plt.gca() # 获取当前的坐标轴\n",
    "ax.set_xticks([x-0.5 for x in range(1, final_matrix.shape[1])], minor=True) # 设置x轴的小刻度\n",
    "ax.set_yticks([y-0.5 for y in range(1, final_matrix.shape[0])], minor=True) # 设置y轴的小刻度\n",
    "plt.grid(which='minor', linestyle='-', linewidth=2)\n",
    "plt.colorbar()"
   ]
  },
  {
   "cell_type": "code",
   "execution_count": null,
   "id": "75d773cd",
   "metadata": {},
   "outputs": [],
   "source": []
  }
 ],
 "metadata": {
  "kernelspec": {
   "display_name": "coniii",
   "language": "python",
   "name": "coniii"
  },
  "language_info": {
   "codemirror_mode": {
    "name": "ipython",
    "version": 3
   },
   "file_extension": ".py",
   "mimetype": "text/x-python",
   "name": "python",
   "nbconvert_exporter": "python",
   "pygments_lexer": "ipython3",
   "version": "3.10.12"
  }
 },
 "nbformat": 4,
 "nbformat_minor": 5
}
